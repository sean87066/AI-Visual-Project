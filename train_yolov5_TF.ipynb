{
  "nbformat": 4,
  "nbformat_minor": 0,
  "metadata": {
    "colab": {
      "provenance": []
    },
    "kernelspec": {
      "name": "python3",
      "display_name": "Python 3"
    },
    "accelerator": "GPU"
  },
  "cells": [
    {
      "cell_type": "code",
      "metadata": {
        "id": "2c0zzlgmY9xk",
        "colab": {
          "base_uri": "https://localhost:8080/"
        },
        "outputId": "b05af1ab-5af2-418c-fb6f-521fe6f2c2e2"
      },
      "source": [
        "%tensorflow_version 1.13.2"
      ],
      "execution_count": null,
      "outputs": [
        {
          "output_type": "stream",
          "text": [
            "`%tensorflow_version` only switches the major version: 1.x or 2.x.\n",
            "You set: `1.13.2`. This will be interpreted as: `1.x`.\n",
            "\n",
            "\n",
            "TensorFlow is already loaded. Please restart the runtime to change versions.\n"
          ],
          "name": "stdout"
        }
      ]
    },
    {
      "cell_type": "code",
      "metadata": {
        "colab": {
          "base_uri": "https://localhost:8080/"
        },
        "id": "LGu2Tby711Fk",
        "outputId": "0054ea90-ba8e-4cd1-ddc2-9deb3bbc2a5b"
      },
      "source": [
        "!nvidia-smi"
      ],
      "execution_count": null,
      "outputs": [
        {
          "output_type": "stream",
          "text": [
            "Thu Mar 11 11:48:14 2021       \n",
            "+-----------------------------------------------------------------------------+\n",
            "| NVIDIA-SMI 460.56       Driver Version: 460.32.03    CUDA Version: 11.2     |\n",
            "|-------------------------------+----------------------+----------------------+\n",
            "| GPU  Name        Persistence-M| Bus-Id        Disp.A | Volatile Uncorr. ECC |\n",
            "| Fan  Temp  Perf  Pwr:Usage/Cap|         Memory-Usage | GPU-Util  Compute M. |\n",
            "|                               |                      |               MIG M. |\n",
            "|===============================+======================+======================|\n",
            "|   0  Tesla K80           Off  | 00000000:00:04.0 Off |                    0 |\n",
            "| N/A   31C    P8    29W / 149W |      0MiB / 11441MiB |      0%      Default |\n",
            "|                               |                      |                  N/A |\n",
            "+-------------------------------+----------------------+----------------------+\n",
            "                                                                               \n",
            "+-----------------------------------------------------------------------------+\n",
            "| Processes:                                                                  |\n",
            "|  GPU   GI   CI        PID   Type   Process name                  GPU Memory |\n",
            "|        ID   ID                                                   Usage      |\n",
            "|=============================================================================|\n",
            "|  No running processes found                                                 |\n",
            "+-----------------------------------------------------------------------------+\n"
          ],
          "name": "stdout"
        }
      ]
    },
    {
      "cell_type": "code",
      "metadata": {
        "colab": {
          "base_uri": "https://localhost:8080/"
        },
        "id": "CMnOgDtIus1M",
        "outputId": "552add1c-3ef5-4d5a-a7e4-ba955adcc6b0"
      },
      "source": [
        "#colab連接到GOOGLE Drive\n",
        "from google.colab import drive\n",
        "drive.mount('/content/drive')"
      ],
      "execution_count": null,
      "outputs": [
        {
          "output_type": "stream",
          "text": [
            "Mounted at /content/drive\n"
          ],
          "name": "stdout"
        }
      ]
    },
    {
      "cell_type": "code",
      "metadata": {
        "id": "D1ktYPry-ko7"
      },
      "source": [
        "# create target directory\n",
        "! rm -rf /content/labels\n",
        "! rm -rf /content/images\n",
        "! mkdir /content/labels\n",
        "! mkdir /content/images"
      ],
      "execution_count": null,
      "outputs": []
    },
    {
      "cell_type": "code",
      "metadata": {
        "id": "oJmbwqir-jxJ"
      },
      "source": [
        "!tar -xf /content/drive/Shareddrives/AI/train/JEPGImages/part1.tar -C /content/images"
      ],
      "execution_count": null,
      "outputs": []
    },
    {
      "cell_type": "code",
      "metadata": {
        "id": "HDOmGf99_CZ6"
      },
      "source": [
        "!tar -xf /content/drive/Shareddrives/AI/train/JEPGImages/part2.tar -C /content/images"
      ],
      "execution_count": null,
      "outputs": []
    },
    {
      "cell_type": "code",
      "metadata": {
        "id": "LpHw_X9OvrxH"
      },
      "source": [
        "!tar -xf /content/drive/Shareddrives/AI/train/JEPGImages/part3.tar -C /content/images"
      ],
      "execution_count": null,
      "outputs": []
    },
    {
      "cell_type": "code",
      "metadata": {
        "id": "owAVnkJR_6S4"
      },
      "source": [
        "!tar -xf /content/drive/Shareddrives/AI/train/Annotations/Annotations.tar -C /content/labels/"
      ],
      "execution_count": null,
      "outputs": []
    },
    {
      "cell_type": "code",
      "metadata": {
        "id": "rFicyan0xKeL"
      },
      "source": [
        "# Create a xml to yolo format converter\n",
        "# additionally, include remove functions to save disk space\n",
        "from bs4 import BeautifulSoup\n",
        "from pathlib import Path\n",
        "import os\n",
        "import shutil\n",
        "\n",
        "#建置一個status_dic\n",
        "status_dic = {'bicycle':3, 'scooter':2, 'pedestrian':1, 'vehicle':0}\n",
        "\n",
        "def getYoloFormat(filename,label_path, img_path):\n",
        "    with open(label_path + filename, 'r') as f:\n",
        "        soup = BeautifulSoup(f.read(), 'xml')\n",
        "        imgname = Path(soup.select_one('filename').text).stem + '.jpg'\n",
        "        # image_w = int(soup.select_one('width').text)\n",
        "        image_w = 1920\n",
        "        # image_h = int(soup.select_one('height').text)\n",
        "        image_h = 1080\n",
        "        ary = []\n",
        "        for obj in soup.select('object'):\n",
        "            #取出xmin, xmax, ymin, ymax，並用status_dic轉換\n",
        "            xmin = int(obj.select_one('xmin').text)\n",
        "            xmax = int(obj.select_one('xmax').text)\n",
        "            ymin = int(obj.select_one('ymin').text)\n",
        "            ymax = int(obj.select_one('ymax').text)\n",
        "            objclass = status_dic.get(obj.select_one('name').text)\n",
        "\n",
        "            #轉成YOLO格式\n",
        "            x = (xmin + (xmax-xmin)/2)*1.0/image_w\n",
        "            y = (ymin + (ymax-ymin)/2)*1.0/image_h\n",
        "            w = (xmax-xmin)*1.0/image_w\n",
        "            h = (ymax-ymin)*1.0/image_h\n",
        "            ary.append(' '.join([str(objclass), str(x), str(y), str(w), str(h)]))\n",
        "\n",
        "        #remove original xml\n",
        "        os.remove(label_path + filename)\n",
        "\n",
        "\n",
        "        if os.path.exists(img_path + imgname):\n",
        "            #把圖片移到yolo之下，同時把參數寫到yolo之下\n",
        "            # shutil.copyfile(img_path + imgname, yolo_path)\n",
        "            with open(label_path + Path(imgname).stem + '.txt', 'w') as f:\n",
        "              f.write('\\n'.join(ary))\n",
        "        \n",
        "        #remove original image\n",
        "        # os.remove(img_path + imgname)"
      ],
      "execution_count": null,
      "outputs": []
    },
    {
      "cell_type": "code",
      "metadata": {
        "id": "4UiZf8lj8X7_"
      },
      "source": [
        "import os, shutil, sys \n",
        "\n",
        "def move_to_root_folder(root_path, cur_path):\n",
        "    for filename in os.listdir(cur_path):\n",
        "        if os.path.isfile(os.path.join(cur_path, filename)):\n",
        "            shutil.move(os.path.join(cur_path, filename), os.path.join(root_path, filename))\n",
        "        elif os.path.isdir(os.path.join(cur_path, filename)):\n",
        "            move_to_root_folder(root_path, os.path.join(cur_path, filename))\n",
        "        else:\n",
        "            sys.exit(\"Should never reach here.\")\n",
        "    # remove empty folders\n",
        "    if cur_path != root_path:\n",
        "        os.rmdir(cur_path)"
      ],
      "execution_count": null,
      "outputs": []
    },
    {
      "cell_type": "code",
      "metadata": {
        "id": "j6epYeaE8ZRv",
        "colab": {
          "base_uri": "https://localhost:8080/",
          "height": 214
        },
        "outputId": "605af918-0193-469c-daa2-c4350fa75ede"
      },
      "source": [
        "import os\n",
        "#設定路徑\n",
        "labelpath = '/content/labels/'\n",
        "imgpath = '/content/images/'\n",
        "\n",
        "move_to_root_folder(labelpath,labelpath)\n",
        "move_to_root_folder(imgpath,imgpath)"
      ],
      "execution_count": null,
      "outputs": [
        {
          "output_type": "error",
          "ename": "NameError",
          "evalue": "ignored",
          "traceback": [
            "\u001b[0;31m---------------------------------------------------------------------------\u001b[0m",
            "\u001b[0;31mNameError\u001b[0m                                 Traceback (most recent call last)",
            "\u001b[0;32m<ipython-input-7-4c0d22e30029>\u001b[0m in \u001b[0;36m<module>\u001b[0;34m()\u001b[0m\n\u001b[1;32m      4\u001b[0m \u001b[0mimgpath\u001b[0m \u001b[0;34m=\u001b[0m \u001b[0;34m'/content/images/'\u001b[0m\u001b[0;34m\u001b[0m\u001b[0;34m\u001b[0m\u001b[0m\n\u001b[1;32m      5\u001b[0m \u001b[0;34m\u001b[0m\u001b[0m\n\u001b[0;32m----> 6\u001b[0;31m \u001b[0mmove_to_root_folder\u001b[0m\u001b[0;34m(\u001b[0m\u001b[0mlabelpath\u001b[0m\u001b[0;34m,\u001b[0m\u001b[0mlabelpath\u001b[0m\u001b[0;34m)\u001b[0m\u001b[0;34m\u001b[0m\u001b[0;34m\u001b[0m\u001b[0m\n\u001b[0m\u001b[1;32m      7\u001b[0m \u001b[0mmove_to_root_folder\u001b[0m\u001b[0;34m(\u001b[0m\u001b[0mimgpath\u001b[0m\u001b[0;34m,\u001b[0m\u001b[0mimgpath\u001b[0m\u001b[0;34m)\u001b[0m\u001b[0;34m\u001b[0m\u001b[0;34m\u001b[0m\u001b[0m\n",
            "\u001b[0;31mNameError\u001b[0m: name 'move_to_root_folder' is not defined"
          ]
        }
      ]
    },
    {
      "cell_type": "code",
      "metadata": {
        "colab": {
          "base_uri": "https://localhost:8080/"
        },
        "id": "z7cPxvi68h56",
        "outputId": "0b48a76c-610c-4b47-fcf2-8664acd843fd"
      },
      "source": [
        "import os\n",
        "#設定路徑\n",
        "labelpath = '/content/labels/'\n",
        "imgpath = '/content/images/'\n",
        "# yolopath = '/content/yolo/'\n",
        "# ary = []\n",
        "for idx, f in enumerate(os.listdir(labelpath)):\n",
        "    try:\n",
        "        #透過getYoloFromat將圖像和參數檔寫到YOLO下\n",
        "        getYoloFormat(f, labelpath, imgpath)\n",
        "    except Exception as e:\n",
        "        print(e)"
      ],
      "execution_count": null,
      "outputs": [
        {
          "output_type": "stream",
          "text": [
            "'utf-8' codec can't decode byte 0xaf in position 16: invalid start byte\n",
            "'utf-8' codec can't decode byte 0x99 in position 16: invalid start byte\n",
            "'utf-8' codec can't decode byte 0xca in position 18: invalid continuation byte\n"
          ],
          "name": "stdout"
        }
      ]
    },
    {
      "cell_type": "code",
      "metadata": {
        "colab": {
          "base_uri": "https://localhost:8080/"
        },
        "id": "qdePNV3VEYCO",
        "outputId": "3cb517c8-f5ac-4603-fb93-450485270a58"
      },
      "source": [
        "import os\n",
        "datasets = ['/content/images/' + f for f in os.listdir('/content/images/') if f.endswith('.jpg')]\n",
        "round(len(datasets))"
      ],
      "execution_count": null,
      "outputs": [
        {
          "output_type": "execute_result",
          "data": {
            "text/plain": [
              "89002"
            ]
          },
          "metadata": {
            "tags": []
          },
          "execution_count": 12
        }
      ]
    },
    {
      "cell_type": "code",
      "metadata": {
        "colab": {
          "base_uri": "https://localhost:8080/"
        },
        "id": "CR0HGlHBEYug",
        "outputId": "39d71c1b-7888-41a8-cdcb-921f0f59ed72"
      },
      "source": [
        "import os\n",
        "datasets = ['/content/labels/' + f for f in os.listdir('/content/labels/') if f.endswith('.txt')]\n",
        "round(len(datasets))"
      ],
      "execution_count": null,
      "outputs": [
        {
          "output_type": "execute_result",
          "data": {
            "text/plain": [
              "89002"
            ]
          },
          "metadata": {
            "tags": []
          },
          "execution_count": 13
        }
      ]
    },
    {
      "cell_type": "code",
      "metadata": {
        "id": "Fe7wRKaMCGaE"
      },
      "source": [
        "! rm -rf /content/labels/train\n",
        "! rm -rf /content/images/train\n",
        "! mkdir /content/labels/train\n",
        "! mkdir /content/images/train\n",
        "! rm -rf /content/labels/validation\n",
        "! rm -rf /content/images/validation\n",
        "! mkdir /content/labels/validation\n",
        "! mkdir /content/images/validation"
      ],
      "execution_count": null,
      "outputs": []
    },
    {
      "cell_type": "code",
      "metadata": {
        "colab": {
          "base_uri": "https://localhost:8080/"
        },
        "id": "mUoKJX3iIPeB",
        "outputId": "b3d5745e-c100-4058-9647-e963909432b2"
      },
      "source": [
        "import pandas as pd\n",
        "from sklearn import model_selection\n",
        "df = datasets\n",
        "df_train,df_valid=model_selection.train_test_split(\n",
        "    df,\n",
        "    test_size=0.2,\n",
        "    random_state=42,\n",
        "    shuffle=True\n",
        ")\n",
        "print(df_train[0])\n",
        "# type(df_train)\n",
        "print(len(df_train))\n",
        "print(len(df_valid))"
      ],
      "execution_count": null,
      "outputs": [
        {
          "output_type": "stream",
          "text": [
            "/content/labels/2_78_00.mp4_01488.txt\n",
            "71201\n",
            "17801\n"
          ],
          "name": "stdout"
        }
      ]
    },
    {
      "cell_type": "code",
      "metadata": {
        "id": "W7t3VR_FEZoa"
      },
      "source": [
        "import shutil\n",
        "from pathlib import Path\n",
        "\n",
        "for i in df_train:\n",
        "  shutil.move(i,'/content/labels/train')\n",
        "  shutil.move('/content/images/'+Path(i).stem+'.jpg','/content/images/train')\n",
        "\n",
        "for i in df_valid:\n",
        "  shutil.move(i,'/content/labels/validation')\n",
        "  shutil.move('/content/images/'+Path(i).stem+'.jpg','/content/images/validation')"
      ],
      "execution_count": null,
      "outputs": []
    },
    {
      "cell_type": "code",
      "metadata": {
        "id": "zMmCl4d_8UEh"
      },
      "source": [
        "#建立YOLO資料夾\n",
        "! rm -rf /content/yolo\n",
        "! mkdir /content/yolo"
      ],
      "execution_count": null,
      "outputs": []
    },
    {
      "cell_type": "code",
      "metadata": {
        "colab": {
          "base_uri": "https://localhost:8080/",
          "height": 35
        },
        "id": "oTEdlTffDPq4",
        "outputId": "03b827f4-19ef-4867-bc29-d6e62a30fc8c"
      },
      "source": [
        "import shutil\n",
        "shutil.move('/content/images','/content/yolo')\n",
        "shutil.move('/content/labels','/content/yolo')"
      ],
      "execution_count": null,
      "outputs": [
        {
          "output_type": "execute_result",
          "data": {
            "application/vnd.google.colaboratory.intrinsic+json": {
              "type": "string"
            },
            "text/plain": [
              "'/content/yolo/labels'"
            ]
          },
          "metadata": {
            "tags": []
          },
          "execution_count": 18
        }
      ]
    },
    {
      "cell_type": "code",
      "metadata": {
        "colab": {
          "base_uri": "https://localhost:8080/"
        },
        "id": "WAV4m436PUc4",
        "outputId": "339798f4-bb18-4fb0-df66-faf926bb170e"
      },
      "source": [
        "import os\n",
        "count=[f for f in os.listdir('/content/yolo/labels/train') if f.endswith('.txt')]\n",
        "len(count)"
      ],
      "execution_count": null,
      "outputs": [
        {
          "output_type": "execute_result",
          "data": {
            "text/plain": [
              "71201"
            ]
          },
          "metadata": {
            "tags": []
          },
          "execution_count": 19
        }
      ]
    },
    {
      "cell_type": "code",
      "metadata": {
        "colab": {
          "base_uri": "https://localhost:8080/"
        },
        "id": "unE3ZUbOQDsg",
        "outputId": "eb649141-37f8-4cb7-cd09-04a40f3fd741"
      },
      "source": [
        "import os\n",
        "count=[f for f in os.listdir('/content/yolo/labels/validation') if f.endswith('.txt')]\n",
        "len(count)"
      ],
      "execution_count": null,
      "outputs": [
        {
          "output_type": "execute_result",
          "data": {
            "text/plain": [
              "17801"
            ]
          },
          "metadata": {
            "tags": []
          },
          "execution_count": 20
        }
      ]
    },
    {
      "cell_type": "code",
      "metadata": {
        "colab": {
          "base_uri": "https://localhost:8080/"
        },
        "id": "R52JQk_UQPGH",
        "outputId": "49a75749-2411-410c-9a9f-b969a4842d6a"
      },
      "source": [
        "import os\n",
        "count=[f for f in os.listdir('/content/yolo/images/train') if f.endswith('.jpg')]\n",
        "len(count)"
      ],
      "execution_count": null,
      "outputs": [
        {
          "output_type": "execute_result",
          "data": {
            "text/plain": [
              "71201"
            ]
          },
          "metadata": {
            "tags": []
          },
          "execution_count": 21
        }
      ]
    },
    {
      "cell_type": "code",
      "metadata": {
        "colab": {
          "base_uri": "https://localhost:8080/"
        },
        "id": "ZzHuCfnTQNBP",
        "outputId": "50e4a7f4-ea09-4dcf-a9d2-780e1b018c93"
      },
      "source": [
        "import os\n",
        "count=[f for f in os.listdir('/content/yolo/images/validation') if f.endswith('.jpg')]\n",
        "len(count)"
      ],
      "execution_count": null,
      "outputs": [
        {
          "output_type": "execute_result",
          "data": {
            "text/plain": [
              "17801"
            ]
          },
          "metadata": {
            "tags": []
          },
          "execution_count": 22
        }
      ]
    },
    {
      "cell_type": "code",
      "metadata": {
        "colab": {
          "base_uri": "https://localhost:8080/"
        },
        "id": "Duc9YikHOoIr",
        "outputId": "a720b16d-599c-4e51-b7a0-44f3256f96d9"
      },
      "source": [
        "%cd /content/drive/MyDrive"
      ],
      "execution_count": null,
      "outputs": [
        {
          "output_type": "stream",
          "text": [
            "/content/drive/MyDrive\n"
          ],
          "name": "stdout"
        }
      ]
    },
    {
      "cell_type": "code",
      "metadata": {
        "colab": {
          "base_uri": "https://localhost:8080/"
        },
        "id": "GNvy8nWP9Kcc",
        "outputId": "55da27f1-7bf6-41d3-d698-65a4de1f35f4"
      },
      "source": [
        "%cd /content/drive/MyDrive/yolov5/"
      ],
      "execution_count": null,
      "outputs": [
        {
          "output_type": "stream",
          "text": [
            "/content/drive/MyDrive/yolov5\n"
          ],
          "name": "stdout"
        }
      ]
    },
    {
      "cell_type": "code",
      "metadata": {
        "id": "dG_dc4aDpdmz",
        "colab": {
          "base_uri": "https://localhost:8080/"
        },
        "outputId": "02b7bc4e-a6ea-4a14-aa47-e01183afb67e"
      },
      "source": [
        "if not os.path.exists('yolov5/'):\n",
        "  !git clone https://github.com/avBuffer/Yolov5_tf.git"
      ],
      "execution_count": null,
      "outputs": [
        {
          "output_type": "stream",
          "text": [
            "Cloning into 'Yolov5_tf'...\n",
            "remote: Enumerating objects: 291, done.\u001b[K\n",
            "remote: Counting objects: 100% (291/291), done.\u001b[K\n",
            "remote: Compressing objects: 100% (214/214), done.\u001b[K\n",
            "remote: Total 291 (delta 99), reused 242 (delta 56), pack-reused 0\u001b[K\n",
            "Receiving objects: 100% (291/291), 23.74 MiB | 21.92 MiB/s, done.\n",
            "Resolving deltas: 100% (99/99), done.\n",
            "Checking out files: 100% (129/129), done.\n"
          ],
          "name": "stdout"
        }
      ]
    },
    {
      "cell_type": "code",
      "metadata": {
        "colab": {
          "base_uri": "https://localhost:8080/",
          "height": 180
        },
        "id": "Oru71dr_8Ulj",
        "outputId": "9b3d7635-1cd2-4cbb-92f1-b6ea091f98ff"
      },
      "source": [
        "# This stops 'Run all' at this cell by causing an error\n",
        "assert False\n",
        "# remember to adjust the number of classes (nc) in the yolov5 yaml file\n",
        "# for example: yolov5/models/yolov5s.yaml"
      ],
      "execution_count": null,
      "outputs": [
        {
          "output_type": "error",
          "ename": "AssertionError",
          "evalue": "ignored",
          "traceback": [
            "\u001b[0;31m---------------------------------------------------------------------------\u001b[0m",
            "\u001b[0;31mAssertionError\u001b[0m                            Traceback (most recent call last)",
            "\u001b[0;32m<ipython-input-28-90e9831ca4f5>\u001b[0m in \u001b[0;36m<module>\u001b[0;34m()\u001b[0m\n\u001b[1;32m      1\u001b[0m \u001b[0;31m# This stops 'Run all' at this cell by causing an error\u001b[0m\u001b[0;34m\u001b[0m\u001b[0;34m\u001b[0m\u001b[0;34m\u001b[0m\u001b[0m\n\u001b[0;32m----> 2\u001b[0;31m \u001b[0;32massert\u001b[0m \u001b[0;32mFalse\u001b[0m\u001b[0;34m\u001b[0m\u001b[0;34m\u001b[0m\u001b[0m\n\u001b[0m",
            "\u001b[0;31mAssertionError\u001b[0m: "
          ]
        }
      ]
    },
    {
      "cell_type": "code",
      "metadata": {
        "colab": {
          "base_uri": "https://localhost:8080/",
          "height": 35
        },
        "id": "HOdGazFJZgrO",
        "outputId": "fecfa8d0-0a3d-4172-dc60-863dbfbe7db1"
      },
      "source": [
        "%pwd"
      ],
      "execution_count": null,
      "outputs": [
        {
          "output_type": "execute_result",
          "data": {
            "application/vnd.google.colaboratory.intrinsic+json": {
              "type": "string"
            },
            "text/plain": [
              "'/content/drive/MyDrive/yolov5'"
            ]
          },
          "metadata": {
            "tags": []
          },
          "execution_count": 18
        }
      ]
    },
    {
      "cell_type": "code",
      "metadata": {
        "id": "VYrGrxXTr2oO"
      },
      "source": [
        "!cp /content/drive/Shareddrives/AI/yolov5l.pt /content"
      ],
      "execution_count": null,
      "outputs": []
    },
    {
      "cell_type": "code",
      "metadata": {
        "id": "zopM04mifVB_",
        "colab": {
          "base_uri": "https://localhost:8080/"
        },
        "outputId": "29e4fd98-18fe-47f0-ccd9-dbd6be5b9fc4"
      },
      "source": [
        "# train from pre-trained \n",
        "!python train.py --data /content/drive/Shareddrives/AI/data.yaml --cfg /content/drive/MyDrive/yolov5/models/yolov5l.yaml --weights /content/drive/Shareddrives/AI/weights/yolov4-tiny_Ting-Yi/archive/last.pt --batch-size 24 --img 640 --epoch 3"
      ],
      "execution_count": null,
      "outputs": [
        {
          "output_type": "stream",
          "text": [
            "remote: Enumerating objects: 12, done.\u001b[K\n",
            "remote: Counting objects:   8% (1/12)\u001b[K\rremote: Counting objects:  16% (2/12)\u001b[K\rremote: Counting objects:  25% (3/12)\u001b[K\rremote: Counting objects:  33% (4/12)\u001b[K\rremote: Counting objects:  41% (5/12)\u001b[K\rremote: Counting objects:  50% (6/12)\u001b[K\rremote: Counting objects:  58% (7/12)\u001b[K\rremote: Counting objects:  66% (8/12)\u001b[K\rremote: Counting objects:  75% (9/12)\u001b[K\rremote: Counting objects:  83% (10/12)\u001b[K\rremote: Counting objects:  91% (11/12)\u001b[K\rremote: Counting objects: 100% (12/12)\u001b[K\rremote: Counting objects: 100% (12/12), done.\u001b[K\n",
            "remote: Total 21 (delta 12), reused 12 (delta 12), pack-reused 9\u001b[K\n",
            "Unpacking objects: 100% (21/21), done.\n",
            "From https://github.com/ultralytics/yolov5\n",
            "   ba18528..e8a2b83  master     -> origin/master\n",
            "   5d90d0b..b140a2c  C6         -> origin/C6\n",
            "\u001b[34m\u001b[1mgithub: \u001b[0m⚠️ WARNING: code is out of date by 8 commits. Use 'git pull' to update or 'git clone https://github.com/ultralytics/yolov5' to download latest.\n",
            "YOLOv5 v4.0-115-ge931b9d torch 1.7.1+cu101 CUDA:0 (Tesla V100-SXM2-16GB, 16160.5MB)\n",
            "\n",
            "Namespace(adam=False, batch_size=24, bucket='', cache_images=False, cfg='/content/drive/MyDrive/yolov5/models/yolov5l.yaml', data='/content/drive/Shareddrives/AI/data.yaml', device='', entity=None, epochs=3, evolve=False, exist_ok=False, global_rank=-1, hyp='data/hyp.scratch.yaml', image_weights=False, img_size=[640, 640], linear_lr=False, local_rank=-1, log_artifacts=False, log_imgs=16, multi_scale=False, name='exp', noautoanchor=False, nosave=False, notest=False, project='runs/train', quad=False, rect=False, resume=False, save_dir='runs/train/exp', single_cls=False, sync_bn=False, total_batch_size=24, weights='/content/drive/Shareddrives/AI/weights/yolov4-tiny_Ting-Yi/archive/last.pt', workers=8, world_size=1)\n",
            "\u001b[34m\u001b[1mwandb: \u001b[0mInstall Weights & Biases for YOLOv5 logging with 'pip install wandb' (recommended)\n",
            "Start Tensorboard with \"tensorboard --logdir runs/train\", view at http://localhost:6006/\n",
            "2021-03-08 06:04:39.803367: I tensorflow/stream_executor/platform/default/dso_loader.cc:49] Successfully opened dynamic library libcudart.so.11.0\n",
            "\u001b[34m\u001b[1mhyperparameters: \u001b[0mlr0=0.01, lrf=0.2, momentum=0.937, weight_decay=0.0005, warmup_epochs=3.0, warmup_momentum=0.8, warmup_bias_lr=0.1, box=0.05, cls=0.5, cls_pw=1.0, obj=1.0, obj_pw=1.0, iou_t=0.2, anchor_t=4.0, fl_gamma=0.0, hsv_h=0.015, hsv_s=0.7, hsv_v=0.4, degrees=0.0, translate=0.1, scale=0.5, shear=0.0, perspective=0.0, flipud=0.0, fliplr=0.5, mosaic=1.0, mixup=0.0\n",
            "\n",
            "                 from  n    params  module                                  arguments                     \n",
            "  0                -1  1      7040  models.common.Focus                     [3, 64, 3]                    \n",
            "  1                -1  1     73984  models.common.Conv                      [64, 128, 3, 2]               \n",
            "  2                -1  1    156928  models.common.C3                        [128, 128, 3]                 \n",
            "  3                -1  1    295424  models.common.Conv                      [128, 256, 3, 2]              \n",
            "  4                -1  1   1611264  models.common.C3                        [256, 256, 9]                 \n",
            "  5                -1  1   1180672  models.common.Conv                      [256, 512, 3, 2]              \n",
            "  6                -1  1   6433792  models.common.C3                        [512, 512, 9]                 \n",
            "  7                -1  1   4720640  models.common.Conv                      [512, 1024, 3, 2]             \n",
            "  8                -1  1   2624512  models.common.SPP                       [1024, 1024, [5, 9, 13]]      \n",
            "  9                -1  1   9971712  models.common.C3                        [1024, 1024, 3, False]        \n",
            " 10                -1  1    525312  models.common.Conv                      [1024, 512, 1, 1]             \n",
            " 11                -1  1         0  torch.nn.modules.upsampling.Upsample    [None, 2, 'nearest']          \n",
            " 12           [-1, 6]  1         0  models.common.Concat                    [1]                           \n",
            " 13                -1  1   2757632  models.common.C3                        [1024, 512, 3, False]         \n",
            " 14                -1  1    131584  models.common.Conv                      [512, 256, 1, 1]              \n",
            " 15                -1  1         0  torch.nn.modules.upsampling.Upsample    [None, 2, 'nearest']          \n",
            " 16           [-1, 4]  1         0  models.common.Concat                    [1]                           \n",
            " 17                -1  1    690688  models.common.C3                        [512, 256, 3, False]          \n",
            " 18                -1  1    590336  models.common.Conv                      [256, 256, 3, 2]              \n",
            " 19          [-1, 14]  1         0  models.common.Concat                    [1]                           \n",
            " 20                -1  1   2495488  models.common.C3                        [512, 512, 3, False]          \n",
            " 21                -1  1   2360320  models.common.Conv                      [512, 512, 3, 2]              \n",
            " 22          [-1, 10]  1         0  models.common.Concat                    [1]                           \n",
            " 23                -1  1   9971712  models.common.C3                        [1024, 1024, 3, False]        \n",
            " 24      [17, 20, 23]  1     48465  models.yolo.Detect                      [4, [[10, 13, 16, 30, 33, 23], [30, 61, 62, 45, 59, 119], [116, 90, 156, 198, 373, 326]], [256, 512, 1024]]\n",
            "Model Summary: 499 layers, 46647505 parameters, 46647505 gradients, 114.3 GFLOPS\n",
            "\n",
            "Transferred 648/650 items from /content/drive/Shareddrives/AI/weights/yolov4-tiny_Ting-Yi/archive/last.pt\n",
            "Scaled weight_decay = 0.0005625000000000001\n",
            "Optimizer groups: 110 .bias, 110 conv.weight, 107 other\n",
            "/content/drive/Shareddrives/AI/weights/yolov4-tiny_Ting-Yi/archive/last.pt has been trained for 8 epochs. Fine-tuning for 3 additional epochs.\n",
            "\u001b[34m\u001b[1mtrain: \u001b[0mScanning '/content/yolo/labels/train.cache' for images and labels... 71201 found, 0 missing, 0 empty, 10753 corrupted: 100% 71201/71201 [00:00<00:00, 761833263.02it/s]\n",
            "\u001b[34m\u001b[1mval: \u001b[0mScanning '/content/yolo/labels/validation.cache' for images and labels... 17801 found, 0 missing, 0 empty, 2628 corrupted: 100% 17801/17801 [00:00<00:00, 3288530.90it/s]\n",
            "Plotting labels... \n",
            "\n",
            "\u001b[34m\u001b[1mautoanchor: \u001b[0mAnalyzing anchors... anchors/target = 5.16, Best Possible Recall (BPR) = 1.0000\n",
            "Image sizes 640 train, 640 test\n",
            "Using 2 dataloader workers\n",
            "Logging results to runs/train/exp\n",
            "Starting training for 11 epochs...\n",
            "\n",
            "     Epoch   gpu_mem       box       obj       cls     total   targets  img_size\n",
            "      9/10     10.5G   0.02541   0.03367  0.002529   0.06161       171       640: 100% 2519/2519 [1:45:10<00:00,  2.51s/it]\n",
            "               Class      Images     Targets           P           R      mAP@.5  mAP@.5:.95: 100% 317/317 [07:37<00:00,  1.44s/it]\n",
            "                 all    1.52e+04    1.17e+05       0.955       0.925       0.966        0.73\n",
            "\n",
            "     Epoch   gpu_mem       box       obj       cls     total   targets  img_size\n",
            "     10/10     13.5G   0.02154   0.02931   0.00204    0.0529       185       640: 100% 2519/2519 [1:46:25<00:00,  2.53s/it]\n",
            "               Class      Images     Targets           P           R      mAP@.5  mAP@.5:.95: 100% 317/317 [08:02<00:00,  1.52s/it]\n",
            "                 all    1.52e+04    1.17e+05       0.961       0.932        0.97       0.741\n",
            "             vehicle    1.52e+04    8.06e+04       0.974       0.964       0.985       0.861\n",
            "          pedestrian    1.52e+04    1.18e+04       0.944       0.928       0.968       0.671\n",
            "             scooter    1.52e+04    2.25e+04        0.96       0.929       0.969       0.751\n",
            "             bicycle    1.52e+04    1.61e+03       0.966       0.908       0.958       0.679\n",
            "Optimizer stripped from runs/train/exp/weights/last.pt, 93.7MB\n",
            "Optimizer stripped from runs/train/exp/weights/best.pt, 93.7MB\n",
            "2 epochs completed in 3.795 hours.\n",
            "\n"
          ],
          "name": "stdout"
        }
      ]
    },
    {
      "cell_type": "code",
      "metadata": {
        "colab": {
          "base_uri": "https://localhost:8080/"
        },
        "id": "ewIM18hj1pAd",
        "outputId": "30678949-2609-4da7-f6ed-4fc5f35e8df1"
      },
      "source": [
        "# train from last save\n",
        "!python train.py --data /content/drive/Shareddrives/AI/data.yaml --cfg /content/drive/MyDrive/yolov5/models/yolov5m.yaml --weights /content/drive/MyDrive/yolov5/runs/train/exp2/weights/best.pt --batch-size 40 --img 640"
      ],
      "execution_count": null,
      "outputs": [
        {
          "output_type": "stream",
          "text": [
            "\u001b[34m\u001b[1mgithub: \u001b[0m⚠️ WARNING: code is out of date by 4 commits. Use 'git pull' to update or 'git clone https://github.com/ultralytics/yolov5' to download latest.\n",
            "YOLOv5 v4.0-115-ge931b9d torch 1.7.1+cu101 CUDA:0 (Tesla P100-PCIE-16GB, 16280.875MB)\n",
            "\n",
            "Namespace(adam=False, batch_size=40, bucket='', cache_images=False, cfg='/content/drive/MyDrive/yolov5/models/yolov5m.yaml', data='/content/drive/Shareddrives/AI/data.yaml', device='', entity=None, epochs=300, evolve=False, exist_ok=False, global_rank=-1, hyp='data/hyp.scratch.yaml', image_weights=False, img_size=[640, 640], linear_lr=False, local_rank=-1, log_artifacts=False, log_imgs=16, multi_scale=False, name='exp', noautoanchor=False, nosave=False, notest=False, project='runs/train', quad=False, rect=False, resume=False, save_dir='runs/train/exp4', single_cls=False, sync_bn=False, total_batch_size=40, weights='/content/drive/MyDrive/yolov5/runs/train/exp2/weights/best.pt', workers=8, world_size=1)\n",
            "\u001b[34m\u001b[1mwandb: \u001b[0mInstall Weights & Biases for YOLOv5 logging with 'pip install wandb' (recommended)\n",
            "Start Tensorboard with \"tensorboard --logdir runs/train\", view at http://localhost:6006/\n",
            "2021-03-06 16:57:43.189549: I tensorflow/stream_executor/platform/default/dso_loader.cc:49] Successfully opened dynamic library libcudart.so.11.0\n",
            "\u001b[34m\u001b[1mhyperparameters: \u001b[0mlr0=0.01, lrf=0.2, momentum=0.937, weight_decay=0.0005, warmup_epochs=3.0, warmup_momentum=0.8, warmup_bias_lr=0.1, box=0.05, cls=0.5, cls_pw=1.0, obj=1.0, obj_pw=1.0, iou_t=0.2, anchor_t=4.0, fl_gamma=0.0, hsv_h=0.015, hsv_s=0.7, hsv_v=0.4, degrees=0.0, translate=0.1, scale=0.5, shear=0.0, perspective=0.0, flipud=0.0, fliplr=0.5, mosaic=1.0, mixup=0.0\n",
            "\n",
            "                 from  n    params  module                                  arguments                     \n",
            "  0                -1  1      5280  models.common.Focus                     [3, 48, 3]                    \n",
            "  1                -1  1     41664  models.common.Conv                      [48, 96, 3, 2]                \n",
            "  2                -1  1     65280  models.common.C3                        [96, 96, 2]                   \n",
            "  3                -1  1    166272  models.common.Conv                      [96, 192, 3, 2]               \n",
            "  4                -1  1    629760  models.common.C3                        [192, 192, 6]                 \n",
            "  5                -1  1    664320  models.common.Conv                      [192, 384, 3, 2]              \n",
            "  6                -1  1   2512896  models.common.C3                        [384, 384, 6]                 \n",
            "  7                -1  1   2655744  models.common.Conv                      [384, 768, 3, 2]              \n",
            "  8                -1  1   1476864  models.common.SPP                       [768, 768, [5, 9, 13]]        \n",
            "  9                -1  1   4134912  models.common.C3                        [768, 768, 2, False]          \n",
            " 10                -1  1    295680  models.common.Conv                      [768, 384, 1, 1]              \n",
            " 11                -1  1         0  torch.nn.modules.upsampling.Upsample    [None, 2, 'nearest']          \n",
            " 12           [-1, 6]  1         0  models.common.Concat                    [1]                           \n",
            " 13                -1  1   1182720  models.common.C3                        [768, 384, 2, False]          \n",
            " 14                -1  1     74112  models.common.Conv                      [384, 192, 1, 1]              \n",
            " 15                -1  1         0  torch.nn.modules.upsampling.Upsample    [None, 2, 'nearest']          \n",
            " 16           [-1, 4]  1         0  models.common.Concat                    [1]                           \n",
            " 17                -1  1    296448  models.common.C3                        [384, 192, 2, False]          \n",
            " 18                -1  1    332160  models.common.Conv                      [192, 192, 3, 2]              \n",
            " 19          [-1, 14]  1         0  models.common.Concat                    [1]                           \n",
            " 20                -1  1   1035264  models.common.C3                        [384, 384, 2, False]          \n",
            " 21                -1  1   1327872  models.common.Conv                      [384, 384, 3, 2]              \n",
            " 22          [-1, 10]  1         0  models.common.Concat                    [1]                           \n",
            " 23                -1  1   4134912  models.common.C3                        [768, 768, 2, False]          \n",
            " 24      [17, 20, 23]  1     36369  models.yolo.Detect                      [4, [[10, 13, 16, 30, 33, 23], [30, 61, 62, 45, 59, 119], [116, 90, 156, 198, 373, 326]], [192, 384, 768]]\n",
            "Model Summary: 391 layers, 21068529 parameters, 21068529 gradients, 50.4 GFLOPS\n",
            "\n",
            "Transferred 504/506 items from /content/drive/MyDrive/yolov5/runs/train/exp2/weights/best.pt\n",
            "Scaled weight_decay = 0.000625\n",
            "Optimizer groups: 86 .bias, 86 conv.weight, 83 other\n",
            "\u001b[34m\u001b[1mtrain: \u001b[0mScanning '/content/yolo/labels/train.cache' for images and labels... 71201 found, 0 missing, 0 empty, 10753 corrupted: 100% 71201/71201 [00:00<00:00, 721349369.82it/s]\n",
            "\u001b[34m\u001b[1mval: \u001b[0mScanning '/content/yolo/labels/validation.cache' for images and labels... 17801 found, 0 missing, 0 empty, 2628 corrupted: 100% 17801/17801 [00:00<00:00, 3290269.94it/s]\n",
            "Plotting labels... \n",
            "\n",
            "\u001b[34m\u001b[1mautoanchor: \u001b[0mAnalyzing anchors... anchors/target = 5.16, Best Possible Recall (BPR) = 1.0000\n",
            "Image sizes 640 train, 640 test\n",
            "Using 2 dataloader workers\n",
            "Logging results to runs/train/exp4\n",
            "Starting training for 300 epochs...\n",
            "\n",
            "     Epoch   gpu_mem       box       obj       cls     total   targets  img_size\n",
            "     9/299     13.6G   0.02627   0.03825  0.002934   0.06745       641       640:   1% 16/1512 [00:58<1:27:58,  3.53s/it]Traceback (most recent call last):\n",
            "  File \"train.py\", line 531, in <module>\n",
            "    train(hyp, opt, device, tb_writer, wandb)\n",
            "  File \"train.py\", line 308, in train\n",
            "    scaler.step(optimizer)  # optimizer.step\n",
            "  File \"/usr/local/lib/python3.7/dist-packages/torch/cuda/amp/grad_scaler.py\", line 320, in step\n",
            "    if not sum(v.item() for v in optimizer_state[\"found_inf_per_device\"].values()):\n",
            "  File \"/usr/local/lib/python3.7/dist-packages/torch/cuda/amp/grad_scaler.py\", line 320, in <genexpr>\n",
            "    if not sum(v.item() for v in optimizer_state[\"found_inf_per_device\"].values()):\n",
            "KeyboardInterrupt\n",
            "     9/299     13.6G   0.02627   0.03825  0.002934   0.06745       641       640:   1% 16/1512 [01:05<1:42:47,  4.12s/it]\n"
          ],
          "name": "stdout"
        }
      ]
    },
    {
      "cell_type": "code",
      "metadata": {
        "id": "XFD7zk1CpqYb"
      },
      "source": [
        "!cp /content/drive/Shareddrives/AI/yolov5l.pt /content/drive/MyDrive/yolov5TF/"
      ],
      "execution_count": null,
      "outputs": []
    },
    {
      "cell_type": "code",
      "metadata": {
        "colab": {
          "base_uri": "https://localhost:8080/"
        },
        "id": "1iEgWsalXOrW",
        "outputId": "c413afbe-236c-4d67-d3ac-bfc336ec50a6"
      },
      "source": [
        "! python /content/drive/MyDrive/yolov5TF/freeze_ckpt_to_pb.py"
      ],
      "execution_count": null,
      "outputs": [
        {
          "output_type": "stream",
          "text": [
            "freeze_ckpt_to_pb ckpt_file= ckpts/social_yolov3_test-loss=3.2020.ckpt-198  not exist\n"
          ],
          "name": "stdout"
        }
      ]
    },
    {
      "cell_type": "code",
      "metadata": {
        "colab": {
          "base_uri": "https://localhost:8080/"
        },
        "id": "xUGOueVfM_kK",
        "outputId": "56859bf1-cf87-42f7-aa04-1afd17daefd8"
      },
      "source": [
        "!git clone https://github.com/ultralytics/yolov5.git  # clone repo"
      ],
      "execution_count": null,
      "outputs": [
        {
          "output_type": "stream",
          "text": [
            "Cloning into 'yolov5'...\n",
            "remote: Enumerating objects: 60, done.\u001b[K\n",
            "remote: Counting objects: 100% (60/60), done.\u001b[K\n",
            "remote: Compressing objects: 100% (38/38), done.\u001b[K\n",
            "remote: Total 5286 (delta 36), reused 44 (delta 22), pack-reused 5226\u001b[K\n",
            "Receiving objects: 100% (5286/5286), 8.01 MiB | 13.91 MiB/s, done.\n",
            "Resolving deltas: 100% (3607/3607), done.\n"
          ],
          "name": "stdout"
        }
      ]
    },
    {
      "cell_type": "code",
      "metadata": {
        "colab": {
          "base_uri": "https://localhost:8080/"
        },
        "id": "YCjpzD0_N0is",
        "outputId": "11935296-b21d-4a6b-9ea5-ebf1fa9e9f4c"
      },
      "source": [
        "!pip install onnx>=1.8.0  # for ONNX export\n",
        "!pip install coremltools==4.0  # for CoreML export\n",
        "!pip install -r /content/yolov5/requirements.txt  # base requirements"
      ],
      "execution_count": null,
      "outputs": [
        {
          "output_type": "stream",
          "text": [
            "Requirement already satisfied: coremltools==4.0 in /usr/local/lib/python3.7/dist-packages (4.0)\n",
            "Requirement already satisfied: attrs in /usr/local/lib/python3.7/dist-packages (from coremltools==4.0) (20.3.0)\n",
            "Requirement already satisfied: protobuf>=3.1.0 in /usr/local/lib/python3.7/dist-packages (from coremltools==4.0) (3.12.4)\n",
            "Requirement already satisfied: tqdm in /usr/local/lib/python3.7/dist-packages (from coremltools==4.0) (4.41.1)\n",
            "Requirement already satisfied: scipy in /usr/local/lib/python3.7/dist-packages (from coremltools==4.0) (1.4.1)\n",
            "Requirement already satisfied: sympy in /usr/local/lib/python3.7/dist-packages (from coremltools==4.0) (1.7.1)\n",
            "Requirement already satisfied: attr in /usr/local/lib/python3.7/dist-packages (from coremltools==4.0) (0.3.1)\n",
            "Requirement already satisfied: six>=1.10.0 in /usr/local/lib/python3.7/dist-packages (from coremltools==4.0) (1.15.0)\n",
            "Requirement already satisfied: packaging in /usr/local/lib/python3.7/dist-packages (from coremltools==4.0) (20.9)\n",
            "Requirement already satisfied: numpy>=1.14.5 in /usr/local/lib/python3.7/dist-packages (from coremltools==4.0) (1.19.5)\n",
            "Requirement already satisfied: setuptools in /usr/local/lib/python3.7/dist-packages (from protobuf>=3.1.0->coremltools==4.0) (54.0.0)\n",
            "Requirement already satisfied: mpmath>=0.19 in /usr/local/lib/python3.7/dist-packages (from sympy->coremltools==4.0) (1.2.1)\n",
            "Requirement already satisfied: pyparsing>=2.0.2 in /usr/local/lib/python3.7/dist-packages (from packaging->coremltools==4.0) (2.4.7)\n",
            "Requirement already satisfied: Cython in /usr/local/lib/python3.7/dist-packages (from -r /content/yolov5/requirements.txt (line 4)) (0.29.22)\n",
            "Requirement already satisfied: matplotlib>=3.2.2 in /usr/local/lib/python3.7/dist-packages (from -r /content/yolov5/requirements.txt (line 5)) (3.2.2)\n",
            "Requirement already satisfied: numpy>=1.18.5 in /usr/local/lib/python3.7/dist-packages (from -r /content/yolov5/requirements.txt (line 6)) (1.19.5)\n",
            "Requirement already satisfied: opencv-python>=4.1.2 in /usr/local/lib/python3.7/dist-packages (from -r /content/yolov5/requirements.txt (line 7)) (4.1.2.30)\n",
            "Requirement already satisfied: Pillow in /usr/local/lib/python3.7/dist-packages (from -r /content/yolov5/requirements.txt (line 8)) (7.0.0)\n",
            "Requirement already satisfied: PyYAML>=5.3.1 in /usr/local/lib/python3.7/dist-packages (from -r /content/yolov5/requirements.txt (line 9)) (5.4.1)\n",
            "Requirement already satisfied: scipy>=1.4.1 in /usr/local/lib/python3.7/dist-packages (from -r /content/yolov5/requirements.txt (line 10)) (1.4.1)\n",
            "Requirement already satisfied: tensorboard>=2.2 in /usr/local/lib/python3.7/dist-packages (from -r /content/yolov5/requirements.txt (line 11)) (2.4.1)\n",
            "Requirement already satisfied: torch>=1.7.0 in /usr/local/lib/python3.7/dist-packages (from -r /content/yolov5/requirements.txt (line 12)) (1.8.0+cu101)\n",
            "Requirement already satisfied: torchvision>=0.8.1 in /usr/local/lib/python3.7/dist-packages (from -r /content/yolov5/requirements.txt (line 13)) (0.9.0+cu101)\n",
            "Requirement already satisfied: tqdm>=4.41.0 in /usr/local/lib/python3.7/dist-packages (from -r /content/yolov5/requirements.txt (line 14)) (4.41.1)\n",
            "Requirement already satisfied: seaborn>=0.11.0 in /usr/local/lib/python3.7/dist-packages (from -r /content/yolov5/requirements.txt (line 20)) (0.11.1)\n",
            "Requirement already satisfied: pandas in /usr/local/lib/python3.7/dist-packages (from -r /content/yolov5/requirements.txt (line 21)) (1.1.5)\n",
            "Requirement already satisfied: thop in /usr/local/lib/python3.7/dist-packages (from -r /content/yolov5/requirements.txt (line 29)) (0.0.31.post2005241907)\n",
            "Requirement already satisfied: pycocotools>=2.0 in /usr/local/lib/python3.7/dist-packages (from -r /content/yolov5/requirements.txt (line 30)) (2.0.2)\n",
            "Requirement already satisfied: kiwisolver>=1.0.1 in /usr/local/lib/python3.7/dist-packages (from matplotlib>=3.2.2->-r /content/yolov5/requirements.txt (line 5)) (1.3.1)\n",
            "Requirement already satisfied: cycler>=0.10 in /usr/local/lib/python3.7/dist-packages (from matplotlib>=3.2.2->-r /content/yolov5/requirements.txt (line 5)) (0.10.0)\n",
            "Requirement already satisfied: pyparsing!=2.0.4,!=2.1.2,!=2.1.6,>=2.0.1 in /usr/local/lib/python3.7/dist-packages (from matplotlib>=3.2.2->-r /content/yolov5/requirements.txt (line 5)) (2.4.7)\n",
            "Requirement already satisfied: python-dateutil>=2.1 in /usr/local/lib/python3.7/dist-packages (from matplotlib>=3.2.2->-r /content/yolov5/requirements.txt (line 5)) (2.8.1)\n",
            "Requirement already satisfied: six>=1.10.0 in /usr/local/lib/python3.7/dist-packages (from tensorboard>=2.2->-r /content/yolov5/requirements.txt (line 11)) (1.15.0)\n",
            "Requirement already satisfied: grpcio>=1.24.3 in /usr/local/lib/python3.7/dist-packages (from tensorboard>=2.2->-r /content/yolov5/requirements.txt (line 11)) (1.32.0)\n",
            "Requirement already satisfied: werkzeug>=0.11.15 in /usr/local/lib/python3.7/dist-packages (from tensorboard>=2.2->-r /content/yolov5/requirements.txt (line 11)) (1.0.1)\n",
            "Requirement already satisfied: protobuf>=3.6.0 in /usr/local/lib/python3.7/dist-packages (from tensorboard>=2.2->-r /content/yolov5/requirements.txt (line 11)) (3.12.4)\n",
            "Requirement already satisfied: google-auth-oauthlib<0.5,>=0.4.1 in /usr/local/lib/python3.7/dist-packages (from tensorboard>=2.2->-r /content/yolov5/requirements.txt (line 11)) (0.4.3)\n",
            "Requirement already satisfied: wheel>=0.26; python_version >= \"3\" in /usr/local/lib/python3.7/dist-packages (from tensorboard>=2.2->-r /content/yolov5/requirements.txt (line 11)) (0.36.2)\n",
            "Requirement already satisfied: absl-py>=0.4 in /usr/local/lib/python3.7/dist-packages (from tensorboard>=2.2->-r /content/yolov5/requirements.txt (line 11)) (0.10.0)\n",
            "Requirement already satisfied: setuptools>=41.0.0 in /usr/local/lib/python3.7/dist-packages (from tensorboard>=2.2->-r /content/yolov5/requirements.txt (line 11)) (54.0.0)\n",
            "Requirement already satisfied: google-auth<2,>=1.6.3 in /usr/local/lib/python3.7/dist-packages (from tensorboard>=2.2->-r /content/yolov5/requirements.txt (line 11)) (1.27.1)\n",
            "Requirement already satisfied: markdown>=2.6.8 in /usr/local/lib/python3.7/dist-packages (from tensorboard>=2.2->-r /content/yolov5/requirements.txt (line 11)) (3.3.4)\n",
            "Requirement already satisfied: requests<3,>=2.21.0 in /usr/local/lib/python3.7/dist-packages (from tensorboard>=2.2->-r /content/yolov5/requirements.txt (line 11)) (2.23.0)\n",
            "Requirement already satisfied: tensorboard-plugin-wit>=1.6.0 in /usr/local/lib/python3.7/dist-packages (from tensorboard>=2.2->-r /content/yolov5/requirements.txt (line 11)) (1.8.0)\n",
            "Requirement already satisfied: typing-extensions in /usr/local/lib/python3.7/dist-packages (from torch>=1.7.0->-r /content/yolov5/requirements.txt (line 12)) (3.7.4.3)\n",
            "Requirement already satisfied: pytz>=2017.2 in /usr/local/lib/python3.7/dist-packages (from pandas->-r /content/yolov5/requirements.txt (line 21)) (2018.9)\n",
            "Requirement already satisfied: requests-oauthlib>=0.7.0 in /usr/local/lib/python3.7/dist-packages (from google-auth-oauthlib<0.5,>=0.4.1->tensorboard>=2.2->-r /content/yolov5/requirements.txt (line 11)) (1.3.0)\n",
            "Requirement already satisfied: pyasn1-modules>=0.2.1 in /usr/local/lib/python3.7/dist-packages (from google-auth<2,>=1.6.3->tensorboard>=2.2->-r /content/yolov5/requirements.txt (line 11)) (0.2.8)\n",
            "Requirement already satisfied: cachetools<5.0,>=2.0.0 in /usr/local/lib/python3.7/dist-packages (from google-auth<2,>=1.6.3->tensorboard>=2.2->-r /content/yolov5/requirements.txt (line 11)) (4.2.1)\n",
            "Requirement already satisfied: rsa<5,>=3.1.4; python_version >= \"3.6\" in /usr/local/lib/python3.7/dist-packages (from google-auth<2,>=1.6.3->tensorboard>=2.2->-r /content/yolov5/requirements.txt (line 11)) (4.7.2)\n",
            "Requirement already satisfied: importlib-metadata; python_version < \"3.8\" in /usr/local/lib/python3.7/dist-packages (from markdown>=2.6.8->tensorboard>=2.2->-r /content/yolov5/requirements.txt (line 11)) (3.7.0)\n",
            "Requirement already satisfied: certifi>=2017.4.17 in /usr/local/lib/python3.7/dist-packages (from requests<3,>=2.21.0->tensorboard>=2.2->-r /content/yolov5/requirements.txt (line 11)) (2020.12.5)\n",
            "Requirement already satisfied: idna<3,>=2.5 in /usr/local/lib/python3.7/dist-packages (from requests<3,>=2.21.0->tensorboard>=2.2->-r /content/yolov5/requirements.txt (line 11)) (2.10)\n",
            "Requirement already satisfied: urllib3!=1.25.0,!=1.25.1,<1.26,>=1.21.1 in /usr/local/lib/python3.7/dist-packages (from requests<3,>=2.21.0->tensorboard>=2.2->-r /content/yolov5/requirements.txt (line 11)) (1.24.3)\n",
            "Requirement already satisfied: chardet<4,>=3.0.2 in /usr/local/lib/python3.7/dist-packages (from requests<3,>=2.21.0->tensorboard>=2.2->-r /content/yolov5/requirements.txt (line 11)) (3.0.4)\n",
            "Requirement already satisfied: oauthlib>=3.0.0 in /usr/local/lib/python3.7/dist-packages (from requests-oauthlib>=0.7.0->google-auth-oauthlib<0.5,>=0.4.1->tensorboard>=2.2->-r /content/yolov5/requirements.txt (line 11)) (3.1.0)\n",
            "Requirement already satisfied: pyasn1<0.5.0,>=0.4.6 in /usr/local/lib/python3.7/dist-packages (from pyasn1-modules>=0.2.1->google-auth<2,>=1.6.3->tensorboard>=2.2->-r /content/yolov5/requirements.txt (line 11)) (0.4.8)\n",
            "Requirement already satisfied: zipp>=0.5 in /usr/local/lib/python3.7/dist-packages (from importlib-metadata; python_version < \"3.8\"->markdown>=2.6.8->tensorboard>=2.2->-r /content/yolov5/requirements.txt (line 11)) (3.4.1)\n"
          ],
          "name": "stdout"
        }
      ]
    },
    {
      "cell_type": "code",
      "metadata": {
        "colab": {
          "base_uri": "https://localhost:8080/"
        },
        "id": "YCC0rlGbOM2j",
        "outputId": "1f8ec7f8-8264-4c76-cd6b-c5ef9778aa0c"
      },
      "source": [
        "!python /content/yolov5/models/export.py --weights /content/yolov5l.pt --img 640 --batch 1  # export at 640x640 with batch size 1"
      ],
      "execution_count": null,
      "outputs": [
        {
          "output_type": "stream",
          "text": [
            "Namespace(batch_size=1, device='cpu', dynamic=False, grid=False, img_size=[640, 640], weights='/content/yolov5l.pt')\n",
            "YOLOv5 v4.0-126-g886f1c0 torch 1.8.0+cu101 CPU\n",
            "\n",
            "Fusing layers... \n",
            "Model Summary: 392 layers, 47025981 parameters, 0 gradients, 115.4 GFLOPS\n",
            "\n",
            "Starting TorchScript export with torch 1.8.0+cu101...\n",
            "/usr/local/lib/python3.7/dist-packages/torch/jit/_trace.py:940: TracerWarning: Encountering a list at the output of the tracer might cause the trace to be incorrect, this is only valid if the container structure does not change based on the module's inputs. Consider using a constant container instead (e.g. for `list`, use a `tuple` instead. for `dict`, use a `NamedTuple` instead). If you absolutely need this and know the side effects, pass strict=False to trace() to allow this behavior.\n",
            "  _force_outplace,\n",
            "TorchScript export success, saved as /content/yolov5l.torchscript.pt\n",
            "\n",
            "Starting ONNX export with onnx 1.8.1...\n",
            "ONNX export success, saved as /content/yolov5l.onnx\n",
            "scikit-learn version 0.22.2.post1 is not supported. Minimum required version: 0.17. Maximum required version: 0.19.2. Disabling scikit-learn conversion API.\n",
            "TensorFlow version 1.15.2 detected. Last version known to be fully compatible is 1.15.0 .\n",
            "Keras version 2.3.1 detected. Last version known to be fully compatible of Keras is 2.2.4 .\n",
            "\n",
            "Starting CoreML export with coremltools 4.0...\n",
            "Tuple detected at graph output. This will be flattened in the converted model.\n",
            "Converting graph.\n",
            "Adding op '1' of type const\n",
            "Adding op '2' of type const\n",
            "Adding op '3' of type const\n",
            "Adding op '4' of type const\n",
            "Adding op '5' of type const\n",
            "Adding op '6' of type const\n",
            "Adding op '7' of type const\n",
            "Adding op '8' of type const\n",
            "Adding op '9' of type const\n",
            "Adding op '10' of type const\n",
            "Adding op '11' of type const\n",
            "Adding op '12' of type const\n",
            "Adding op '13' of type const\n",
            "Adding op '14' of type const\n",
            "Adding op '15' of type const\n",
            "Adding op '16' of type const\n",
            "Adding op '17' of type const\n",
            "Adding op '18' of type const\n",
            "Adding op '19' of type const\n",
            "Adding op '20' of type const\n",
            "Adding op '21' of type const\n",
            "Adding op '22' of type const\n",
            "Adding op '23' of type const\n",
            "Adding op '24' of type const\n",
            "Adding op '25' of type const\n",
            "Adding op '26' of type const\n",
            "Adding op '27' of type const\n",
            "Adding op '28' of type const\n",
            "Adding op '29' of type const\n",
            "Adding op '30' of type const\n",
            "Adding op '31' of type const\n",
            "Adding op '32' of type const\n",
            "Adding op '33' of type const\n",
            "Adding op '34' of type const\n",
            "Adding op '35' of type const\n",
            "Adding op '36' of type const\n",
            "Adding op '37' of type const\n",
            "Adding op '38' of type const\n",
            "Adding op '39' of type const\n",
            "Adding op '40' of type const\n",
            "Adding op '41' of type const\n",
            "Adding op '42' of type const\n",
            "Adding op '43' of type const\n",
            "Adding op '44' of type const\n",
            "Adding op '45' of type const\n",
            "Adding op '46' of type const\n",
            "Adding op '47' of type const\n",
            "Adding op '48' of type const\n",
            "Adding op '49' of type const\n",
            "Adding op '50' of type const\n",
            "Adding op '51' of type const\n",
            "Adding op '52' of type const\n",
            "Adding op '53' of type const\n",
            "Adding op '54' of type const\n",
            "Adding op '55' of type const\n",
            "Adding op '56' of type const\n",
            "Adding op '57' of type const\n",
            "Adding op '58' of type const\n",
            "Adding op '59' of type const\n",
            "Adding op '60' of type const\n",
            "Adding op '61' of type const\n",
            "Adding op '62' of type const\n",
            "Adding op '63' of type const\n",
            "Adding op '64' of type const\n",
            "Adding op '65' of type const\n",
            "Adding op '66' of type const\n",
            "Adding op '67' of type const\n",
            "Adding op '68' of type const\n",
            "Adding op '69' of type const\n",
            "Adding op '70' of type const\n",
            "Adding op '71' of type const\n",
            "Adding op '72' of type const\n",
            "Adding op '73' of type const\n",
            "Adding op '74' of type const\n",
            "Adding op '75' of type const\n",
            "Adding op '76' of type const\n",
            "Adding op '77' of type const\n",
            "Adding op '78' of type const\n",
            "Adding op '79' of type const\n",
            "Adding op '80' of type const\n",
            "Adding op '81' of type const\n",
            "Adding op '82' of type const\n",
            "Adding op '83' of type const\n",
            "Adding op '84' of type const\n",
            "Adding op '85' of type const\n",
            "Adding op '86' of type const\n",
            "Adding op '87' of type const\n",
            "Adding op '88' of type const\n",
            "Adding op '89' of type const\n",
            "Adding op '90' of type const\n",
            "Adding op '91' of type const\n",
            "Adding op '92' of type const\n",
            "Adding op '93' of type const\n",
            "Adding op '94' of type const\n",
            "Adding op '95' of type const\n",
            "Adding op '96' of type const\n",
            "Adding op '97' of type const\n",
            "Adding op '98' of type const\n",
            "Adding op '99' of type const\n",
            "Adding op '100' of type const\n",
            "Adding op '101' of type const\n",
            "Adding op '102' of type const\n",
            "Adding op '103' of type const\n",
            "Adding op '104' of type const\n",
            "Adding op '105' of type const\n",
            "Adding op '106' of type const\n",
            "Adding op '107' of type const\n",
            "Adding op '108' of type const\n",
            "Adding op '109' of type const\n",
            "Adding op '110' of type const\n",
            "Adding op '111' of type const\n",
            "Adding op '112' of type const\n",
            "Adding op '113' of type const\n",
            "Adding op '114' of type const\n",
            "Adding op '115' of type const\n",
            "Adding op '116' of type const\n",
            "Adding op '117' of type const\n",
            "Adding op '118' of type const\n",
            "Adding op '119' of type const\n",
            "Adding op '120' of type const\n",
            "Adding op '121' of type const\n",
            "Adding op '122' of type const\n",
            "Adding op '123' of type const\n",
            "Adding op '124' of type const\n",
            "Adding op '125' of type const\n",
            "Adding op '126' of type const\n",
            "Adding op '127' of type const\n",
            "Adding op '128' of type const\n",
            "Adding op '129' of type const\n",
            "Adding op '130' of type const\n",
            "Adding op '131' of type const\n",
            "Adding op '132' of type const\n",
            "Adding op '133' of type const\n",
            "Adding op '134' of type const\n",
            "Adding op '135' of type const\n",
            "Adding op '136' of type const\n",
            "Adding op '137' of type const\n",
            "Adding op '138' of type const\n",
            "Adding op '139' of type const\n",
            "Adding op '140' of type const\n",
            "Adding op '141' of type const\n",
            "Adding op '142' of type const\n",
            "Adding op '143' of type const\n",
            "Adding op '144' of type const\n",
            "Adding op '145' of type const\n",
            "Adding op '146' of type const\n",
            "Adding op '147' of type const\n",
            "Adding op '148' of type const\n",
            "Adding op '149' of type const\n",
            "Adding op '150' of type const\n",
            "Adding op '151' of type const\n",
            "Adding op '152' of type const\n",
            "Adding op '153' of type const\n",
            "Adding op '154' of type const\n",
            "Adding op '155' of type const\n",
            "Adding op '156' of type const\n",
            "Adding op '157' of type const\n",
            "Adding op '158' of type const\n",
            "Adding op '159' of type const\n",
            "Adding op '160' of type const\n",
            "Adding op '161' of type const\n",
            "Adding op '162' of type const\n",
            "Adding op '163' of type const\n",
            "Adding op '164' of type const\n",
            "Adding op '165' of type const\n",
            "Adding op '166' of type const\n",
            "Adding op '167' of type const\n",
            "Adding op '168' of type const\n",
            "Adding op '169' of type const\n",
            "Adding op '170' of type const\n",
            "Adding op '171' of type const\n",
            "Adding op '172' of type const\n",
            "Adding op '173' of type const\n",
            "Adding op '174' of type const\n",
            "Adding op '175' of type const\n",
            "Adding op '176' of type const\n",
            "Adding op '177' of type const\n",
            "Adding op '178' of type const\n",
            "Adding op '179' of type const\n",
            "Adding op '180' of type const\n",
            "Adding op '181' of type const\n",
            "Adding op '182' of type const\n",
            "Adding op '183' of type const\n",
            "Adding op '184' of type const\n",
            "Adding op '185' of type const\n",
            "Adding op '186' of type const\n",
            "Adding op '187' of type const\n",
            "Adding op '188' of type const\n",
            "Adding op '189' of type const\n",
            "Adding op '190' of type const\n",
            "Adding op '191' of type const\n",
            "Adding op '192' of type const\n",
            "Adding op '193' of type const\n",
            "Adding op '194' of type const\n",
            "Adding op '195' of type const\n",
            "Adding op '196' of type const\n",
            "Adding op '197' of type const\n",
            "Adding op '198' of type const\n",
            "Adding op '199' of type const\n",
            "Adding op '200' of type const\n",
            "Adding op '201' of type const\n",
            "Adding op '202' of type const\n",
            "Adding op '203' of type const\n",
            "Adding op '204' of type const\n",
            "Adding op '205' of type const\n",
            "Adding op '206' of type const\n",
            "Adding op '207' of type const\n",
            "Adding op '208' of type const\n",
            "Adding op '209' of type const\n",
            "Adding op '210' of type const\n",
            "Adding op '211' of type const\n",
            "Adding op '212' of type const\n",
            "Adding op '213' of type const\n",
            "Adding op '214' of type const\n",
            "Adding op '215' of type const\n",
            "Adding op '216' of type const\n",
            "Adding op '217' of type const\n",
            "Adding op '218' of type const\n",
            "Adding op '219' of type const\n",
            "Adding op '220' of type const\n",
            "Converting Frontend ==> MIL Ops:   0% 0/970 [00:00<?, ? ops/s]Converting op 221 : constant\n",
            "Adding op '221' of type const\n",
            "Converting op 222 : constant\n",
            "Adding op '222' of type const\n",
            "Converting op 223 : constant\n",
            "Adding op '223' of type const\n",
            "Converting op 224 : constant\n",
            "Adding op '224' of type const\n",
            "Converting op 225 : constant\n",
            "Converting op 226 : constant\n",
            "Adding op '226' of type const\n",
            "Converting op 227 : constant\n",
            "Adding op '227' of type const\n",
            "Converting op 228 : slice\n",
            "Adding op '228' of type slice_by_index\n",
            "Adding op '228_begin_0' of type const\n",
            "Adding op '228_end_0' of type const\n",
            "Adding op '228_stride_0' of type const\n",
            "Adding op '228_end_mask_0' of type const\n",
            "Converting op 229 : slice\n",
            "Adding op '229' of type slice_by_index\n",
            "Adding op '229_begin_0' of type const\n",
            "Adding op '229_end_0' of type const\n",
            "Adding op '229_stride_0' of type const\n",
            "Adding op '229_end_mask_0' of type const\n",
            "Converting op 230 : slice\n",
            "Adding op '230' of type slice_by_index\n",
            "Adding op '230_begin_0' of type const\n",
            "Adding op '230_end_0' of type const\n",
            "Adding op '230_stride_0' of type const\n",
            "Adding op '230_end_mask_0' of type const\n",
            "Converting op 231 : slice\n",
            "Adding op '231' of type slice_by_index\n",
            "Adding op '231_begin_0' of type const\n",
            "Adding op '231_end_0' of type const\n",
            "Adding op '231_stride_0' of type const\n",
            "Adding op '231_end_mask_0' of type const\n",
            "Converting op 232 : slice\n",
            "Adding op '232' of type slice_by_index\n",
            "Adding op '232_begin_0' of type const\n",
            "Adding op '232_end_0' of type const\n",
            "Adding op '232_stride_0' of type const\n",
            "Adding op '232_end_mask_0' of type const\n",
            "Converting op 233 : slice\n",
            "Adding op '233' of type slice_by_index\n",
            "Adding op '233_begin_0' of type const\n",
            "Adding op '233_end_0' of type const\n",
            "Adding op '233_stride_0' of type const\n",
            "Adding op '233_end_mask_0' of type const\n",
            "Converting op 234 : slice\n",
            "Adding op '234' of type slice_by_index\n",
            "Adding op '234_begin_0' of type const\n",
            "Adding op '234_end_0' of type const\n",
            "Adding op '234_stride_0' of type const\n",
            "Adding op '234_end_mask_0' of type const\n",
            "Converting op 235 : slice\n",
            "Adding op '235' of type slice_by_index\n",
            "Adding op '235_begin_0' of type const\n",
            "Adding op '235_end_0' of type const\n",
            "Adding op '235_stride_0' of type const\n",
            "Adding op '235_end_mask_0' of type const\n",
            "Converting op 236 : listconstruct\n",
            "Converting op input.1 : cat\n",
            "Adding op 'input.1' of type concat\n",
            "Adding op 'input.1_interleave_0' of type const\n",
            "Converting op 238 : listconstruct\n",
            "Adding op '238' of type const\n",
            "Converting op 239 : listconstruct\n",
            "Adding op '239' of type const\n",
            "Converting op 240 : listconstruct\n",
            "Adding op '240' of type const\n",
            "Converting op 241 : listconstruct\n",
            "Adding op '241' of type const\n",
            "Converting op x.2 : _convolution\n",
            "Converting Frontend ==> MIL Ops:   0% 0/970 [00:00<?, ? ops/s]\n",
            "CoreML export failure: unexpected number of inputs for node x.2 (_convolution): 13\n",
            "\n",
            "Export complete (28.13s). Visualize with https://github.com/lutzroeder/netron.\n"
          ],
          "name": "stdout"
        }
      ]
    },
    {
      "cell_type": "code",
      "metadata": {
        "colab": {
          "base_uri": "https://localhost:8080/"
        },
        "id": "FSFo2F4bRn3M",
        "outputId": "53936037-5bfa-4099-f0ea-cfeeadfe7655"
      },
      "source": [
        "%cd /content/yolov5/"
      ],
      "execution_count": null,
      "outputs": [
        {
          "output_type": "stream",
          "text": [
            "/content/yolov5\n"
          ],
          "name": "stdout"
        }
      ]
    },
    {
      "cell_type": "code",
      "metadata": {
        "id": "FLrrQ3OXR_Oa"
      },
      "source": [
        "!cp /content/yolov5l.onnx /content/drive/Shareddrives/AI"
      ],
      "execution_count": null,
      "outputs": []
    },
    {
      "cell_type": "code",
      "metadata": {
        "colab": {
          "base_uri": "https://localhost:8080/"
        },
        "id": "uf-HCLDoSg-b",
        "outputId": "729c1881-f600-4d78-bcf1-c7d0eb6d89f4"
      },
      "source": [
        "%cd /content/"
      ],
      "execution_count": null,
      "outputs": [
        {
          "output_type": "stream",
          "text": [
            "/content\n"
          ],
          "name": "stdout"
        }
      ]
    },
    {
      "cell_type": "code",
      "metadata": {
        "colab": {
          "base_uri": "https://localhost:8080/"
        },
        "id": "vGbzf7qPSfF-",
        "outputId": "46ab4dd6-8b04-4415-ed01-008128cba25d"
      },
      "source": [
        "!pip install git+https://github.com/onnx/onnx-tensorflow.git"
      ],
      "execution_count": null,
      "outputs": [
        {
          "output_type": "stream",
          "text": [
            "Collecting git+https://github.com/onnx/onnx-tensorflow.git\n",
            "  Cloning https://github.com/onnx/onnx-tensorflow.git to /tmp/pip-req-build-vkkt29wv\n",
            "  Running command git clone -q https://github.com/onnx/onnx-tensorflow.git /tmp/pip-req-build-vkkt29wv\n",
            "Requirement already satisfied: onnx>=1.7.0 in /usr/local/lib/python3.7/dist-packages (from onnx-tf==1.7.0) (1.8.1)\n",
            "Requirement already satisfied: PyYAML in /usr/local/lib/python3.7/dist-packages (from onnx-tf==1.7.0) (5.4.1)\n",
            "Collecting tensorflow_addons\n",
            "\u001b[?25l  Downloading https://files.pythonhosted.org/packages/74/e3/56d2fe76f0bb7c88ed9b2a6a557e25e83e252aec08f13de34369cd850a0b/tensorflow_addons-0.12.1-cp37-cp37m-manylinux2010_x86_64.whl (703kB)\n",
            "\u001b[K     |████████████████████████████████| 706kB 11.2MB/s \n",
            "\u001b[?25hRequirement already satisfied: numpy>=1.16.6 in /usr/local/lib/python3.7/dist-packages (from onnx>=1.7.0->onnx-tf==1.7.0) (1.19.5)\n",
            "Requirement already satisfied: protobuf in /usr/local/lib/python3.7/dist-packages (from onnx>=1.7.0->onnx-tf==1.7.0) (3.12.4)\n",
            "Requirement already satisfied: typing-extensions>=3.6.2.1 in /usr/local/lib/python3.7/dist-packages (from onnx>=1.7.0->onnx-tf==1.7.0) (3.7.4.3)\n",
            "Requirement already satisfied: six in /usr/local/lib/python3.7/dist-packages (from onnx>=1.7.0->onnx-tf==1.7.0) (1.15.0)\n",
            "Requirement already satisfied: typeguard>=2.7 in /usr/local/lib/python3.7/dist-packages (from tensorflow_addons->onnx-tf==1.7.0) (2.7.1)\n",
            "Requirement already satisfied: setuptools in /usr/local/lib/python3.7/dist-packages (from protobuf->onnx>=1.7.0->onnx-tf==1.7.0) (54.0.0)\n",
            "Building wheels for collected packages: onnx-tf\n",
            "  Building wheel for onnx-tf (setup.py) ... \u001b[?25l\u001b[?25hdone\n",
            "  Created wheel for onnx-tf: filename=onnx_tf-1.7.0-cp37-none-any.whl size=218776 sha256=f99a82cf3dbf9fd410dae6c6a979fd2736bc55ac4236b6c8498a3180d5743b12\n",
            "  Stored in directory: /tmp/pip-ephem-wheel-cache-y5l3_1yq/wheels/54/24/31/8873b33d2d560efdfa1ed6f346df67ef793b1897358705a480\n",
            "Successfully built onnx-tf\n",
            "Installing collected packages: tensorflow-addons, onnx-tf\n",
            "Successfully installed onnx-tf-1.7.0 tensorflow-addons-0.12.1\n"
          ],
          "name": "stdout"
        }
      ]
    },
    {
      "cell_type": "code",
      "metadata": {
        "colab": {
          "base_uri": "https://localhost:8080/",
          "height": 1000
        },
        "id": "5MDoLe7JTFRR",
        "outputId": "6e9b1a29-0afb-4061-d31a-86075003bde4"
      },
      "source": [
        "import onnx\n",
        "from tensorflow.python.tools.import_pb_to_tensorboard import import_to_tensorboard\n",
        "from onnx_tf.backend import prepare\n",
        "onnx_model = onnx.load(\"/content/yolov5l.onnx\")\n",
        "tf_rep = prepare(onnx_model)\n",
        "tf_rep.export_graph(\"best.pb\")\n",
        "import_to_tensorboard(\"best.pb\", \"tb_log\")"
      ],
      "execution_count": null,
      "outputs": [
        {
          "output_type": "stream",
          "text": [
            "/usr/local/lib/python3.7/dist-packages/tensorflow_addons/utils/ensure_tf_install.py:67: UserWarning: Tensorflow Addons supports using Python ops for all Tensorflow versions above or equal to 2.3.0 and strictly below 2.5.0 (nightly versions are not supported). \n",
            " The versions of TensorFlow you are currently using is 1.15.2 and is not supported. \n",
            "Some things might work, some things might not.\n",
            "If you were to encounter a bug, do not file an issue.\n",
            "If you want to make sure you're using a tested and supported configuration, either change the TensorFlow version or the TensorFlow Addons's version. \n",
            "You can find the compatibility matrix in TensorFlow Addon's readme:\n",
            "https://github.com/tensorflow/addons\n",
            "  UserWarning,\n"
          ],
          "name": "stderr"
        },
        {
          "output_type": "error",
          "ename": "ImportError",
          "evalue": "ignored",
          "traceback": [
            "\u001b[0;31m---------------------------------------------------------------------------\u001b[0m",
            "\u001b[0;31mImportError\u001b[0m                               Traceback (most recent call last)",
            "\u001b[0;32m<ipython-input-32-6b46dbcdaf2c>\u001b[0m in \u001b[0;36m<module>\u001b[0;34m()\u001b[0m\n\u001b[1;32m      1\u001b[0m \u001b[0;32mimport\u001b[0m \u001b[0monnx\u001b[0m\u001b[0;34m\u001b[0m\u001b[0;34m\u001b[0m\u001b[0m\n\u001b[1;32m      2\u001b[0m \u001b[0;32mfrom\u001b[0m \u001b[0mtensorflow\u001b[0m\u001b[0;34m.\u001b[0m\u001b[0mpython\u001b[0m\u001b[0;34m.\u001b[0m\u001b[0mtools\u001b[0m\u001b[0;34m.\u001b[0m\u001b[0mimport_pb_to_tensorboard\u001b[0m \u001b[0;32mimport\u001b[0m \u001b[0mimport_to_tensorboard\u001b[0m\u001b[0;34m\u001b[0m\u001b[0;34m\u001b[0m\u001b[0m\n\u001b[0;32m----> 3\u001b[0;31m \u001b[0;32mfrom\u001b[0m \u001b[0monnx_tf\u001b[0m\u001b[0;34m.\u001b[0m\u001b[0mbackend\u001b[0m \u001b[0;32mimport\u001b[0m \u001b[0mprepare\u001b[0m\u001b[0;34m\u001b[0m\u001b[0;34m\u001b[0m\u001b[0m\n\u001b[0m\u001b[1;32m      4\u001b[0m \u001b[0monnx_model\u001b[0m \u001b[0;34m=\u001b[0m \u001b[0monnx\u001b[0m\u001b[0;34m.\u001b[0m\u001b[0mload\u001b[0m\u001b[0;34m(\u001b[0m\u001b[0;34m\"/content/yolov5l.onnx\"\u001b[0m\u001b[0;34m)\u001b[0m\u001b[0;34m\u001b[0m\u001b[0;34m\u001b[0m\u001b[0m\n\u001b[1;32m      5\u001b[0m \u001b[0mtf_rep\u001b[0m \u001b[0;34m=\u001b[0m \u001b[0mprepare\u001b[0m\u001b[0;34m(\u001b[0m\u001b[0monnx_model\u001b[0m\u001b[0;34m)\u001b[0m\u001b[0;34m\u001b[0m\u001b[0;34m\u001b[0m\u001b[0m\n",
            "\u001b[0;32m/usr/local/lib/python3.7/dist-packages/onnx_tf/__init__.py\u001b[0m in \u001b[0;36m<module>\u001b[0;34m()\u001b[0m\n\u001b[0;32m----> 1\u001b[0;31m \u001b[0;32mfrom\u001b[0m \u001b[0;34m.\u001b[0m \u001b[0;32mimport\u001b[0m \u001b[0mbackend\u001b[0m\u001b[0;34m\u001b[0m\u001b[0;34m\u001b[0m\u001b[0m\n\u001b[0m\u001b[1;32m      2\u001b[0m \u001b[0;32mfrom\u001b[0m \u001b[0;34m.\u001b[0m\u001b[0mversion\u001b[0m \u001b[0;32mimport\u001b[0m \u001b[0mversion\u001b[0m \u001b[0;32mas\u001b[0m \u001b[0m__version__\u001b[0m\u001b[0;34m\u001b[0m\u001b[0;34m\u001b[0m\u001b[0m\n",
            "\u001b[0;32m/usr/local/lib/python3.7/dist-packages/onnx_tf/backend.py\u001b[0m in \u001b[0;36m<module>\u001b[0;34m()\u001b[0m\n\u001b[1;32m     26\u001b[0m \u001b[0;32mfrom\u001b[0m \u001b[0monnx_tf\u001b[0m\u001b[0;34m.\u001b[0m\u001b[0mcommon\u001b[0m \u001b[0;32mimport\u001b[0m \u001b[0mget_unique_suffix\u001b[0m\u001b[0;34m\u001b[0m\u001b[0;34m\u001b[0m\u001b[0m\n\u001b[1;32m     27\u001b[0m \u001b[0;32mfrom\u001b[0m \u001b[0monnx_tf\u001b[0m\u001b[0;34m.\u001b[0m\u001b[0mcommon\u001b[0m \u001b[0;32mimport\u001b[0m \u001b[0msupports_device\u001b[0m \u001b[0;32mas\u001b[0m \u001b[0mcommon_supports_device\u001b[0m\u001b[0;34m\u001b[0m\u001b[0;34m\u001b[0m\u001b[0m\n\u001b[0;32m---> 28\u001b[0;31m \u001b[0;32mfrom\u001b[0m \u001b[0monnx_tf\u001b[0m\u001b[0;34m.\u001b[0m\u001b[0mcommon\u001b[0m\u001b[0;34m.\u001b[0m\u001b[0mhandler_helper\u001b[0m \u001b[0;32mimport\u001b[0m \u001b[0mget_all_backend_handlers\u001b[0m\u001b[0;34m\u001b[0m\u001b[0;34m\u001b[0m\u001b[0m\n\u001b[0m\u001b[1;32m     29\u001b[0m \u001b[0;32mfrom\u001b[0m \u001b[0monnx_tf\u001b[0m\u001b[0;34m.\u001b[0m\u001b[0mpb_wrapper\u001b[0m \u001b[0;32mimport\u001b[0m \u001b[0mOnnxNode\u001b[0m\u001b[0;34m\u001b[0m\u001b[0;34m\u001b[0m\u001b[0m\n\u001b[1;32m     30\u001b[0m \u001b[0;32mfrom\u001b[0m \u001b[0monnx_tf\u001b[0m\u001b[0;34m.\u001b[0m\u001b[0mbackend_tf_module\u001b[0m \u001b[0;32mimport\u001b[0m \u001b[0mBackendTFModule\u001b[0m\u001b[0;34m,\u001b[0m \u001b[0mTFModule\u001b[0m\u001b[0;34m\u001b[0m\u001b[0;34m\u001b[0m\u001b[0m\n",
            "\u001b[0;32m/usr/local/lib/python3.7/dist-packages/onnx_tf/common/handler_helper.py\u001b[0m in \u001b[0;36m<module>\u001b[0;34m()\u001b[0m\n\u001b[1;32m      1\u001b[0m \u001b[0;32mfrom\u001b[0m \u001b[0monnx\u001b[0m \u001b[0;32mimport\u001b[0m \u001b[0mdefs\u001b[0m\u001b[0;34m\u001b[0m\u001b[0;34m\u001b[0m\u001b[0m\n\u001b[1;32m      2\u001b[0m \u001b[0;34m\u001b[0m\u001b[0m\n\u001b[0;32m----> 3\u001b[0;31m \u001b[0;32mfrom\u001b[0m \u001b[0monnx_tf\u001b[0m\u001b[0;34m.\u001b[0m\u001b[0mhandlers\u001b[0m\u001b[0;34m.\u001b[0m\u001b[0mbackend\u001b[0m \u001b[0;32mimport\u001b[0m \u001b[0;34m*\u001b[0m  \u001b[0;31m# noqa\u001b[0m\u001b[0;34m\u001b[0m\u001b[0;34m\u001b[0m\u001b[0m\n\u001b[0m\u001b[1;32m      4\u001b[0m \u001b[0;32mfrom\u001b[0m \u001b[0monnx_tf\u001b[0m\u001b[0;34m.\u001b[0m\u001b[0mhandlers\u001b[0m\u001b[0;34m.\u001b[0m\u001b[0mbackend_handler\u001b[0m \u001b[0;32mimport\u001b[0m \u001b[0mBackendHandler\u001b[0m\u001b[0;34m\u001b[0m\u001b[0;34m\u001b[0m\u001b[0m\n\u001b[1;32m      5\u001b[0m \u001b[0;32mimport\u001b[0m \u001b[0monnx_tf\u001b[0m\u001b[0;34m.\u001b[0m\u001b[0mcommon\u001b[0m \u001b[0;32mas\u001b[0m \u001b[0mcommon\u001b[0m\u001b[0;34m\u001b[0m\u001b[0;34m\u001b[0m\u001b[0m\n",
            "\u001b[0;32m/usr/local/lib/python3.7/dist-packages/onnx_tf/handlers/backend/hardmax.py\u001b[0m in \u001b[0;36m<module>\u001b[0;34m()\u001b[0m\n\u001b[1;32m      1\u001b[0m \u001b[0;32mimport\u001b[0m \u001b[0mnumpy\u001b[0m \u001b[0;32mas\u001b[0m \u001b[0mnp\u001b[0m\u001b[0;34m\u001b[0m\u001b[0;34m\u001b[0m\u001b[0m\n\u001b[1;32m      2\u001b[0m \u001b[0;32mimport\u001b[0m \u001b[0mtensorflow\u001b[0m \u001b[0;32mas\u001b[0m \u001b[0mtf\u001b[0m\u001b[0;34m\u001b[0m\u001b[0;34m\u001b[0m\u001b[0m\n\u001b[0;32m----> 3\u001b[0;31m \u001b[0;32mimport\u001b[0m \u001b[0mtensorflow_addons\u001b[0m \u001b[0;32mas\u001b[0m \u001b[0mtfa\u001b[0m\u001b[0;34m\u001b[0m\u001b[0;34m\u001b[0m\u001b[0m\n\u001b[0m\u001b[1;32m      4\u001b[0m \u001b[0;34m\u001b[0m\u001b[0m\n\u001b[1;32m      5\u001b[0m \u001b[0;32mfrom\u001b[0m \u001b[0monnx_tf\u001b[0m\u001b[0;34m.\u001b[0m\u001b[0mhandlers\u001b[0m\u001b[0;34m.\u001b[0m\u001b[0mbackend_handler\u001b[0m \u001b[0;32mimport\u001b[0m \u001b[0mBackendHandler\u001b[0m\u001b[0;34m\u001b[0m\u001b[0;34m\u001b[0m\u001b[0m\n",
            "\u001b[0;32m/usr/local/lib/python3.7/dist-packages/tensorflow_addons/__init__.py\u001b[0m in \u001b[0;36m<module>\u001b[0;34m()\u001b[0m\n\u001b[1;32m     19\u001b[0m \u001b[0;34m\u001b[0m\u001b[0m\n\u001b[1;32m     20\u001b[0m \u001b[0;31m# Local project imports\u001b[0m\u001b[0;34m\u001b[0m\u001b[0;34m\u001b[0m\u001b[0;34m\u001b[0m\u001b[0m\n\u001b[0;32m---> 21\u001b[0;31m \u001b[0;32mfrom\u001b[0m \u001b[0mtensorflow_addons\u001b[0m \u001b[0;32mimport\u001b[0m \u001b[0mactivations\u001b[0m\u001b[0;34m\u001b[0m\u001b[0;34m\u001b[0m\u001b[0m\n\u001b[0m\u001b[1;32m     22\u001b[0m \u001b[0;32mfrom\u001b[0m \u001b[0mtensorflow_addons\u001b[0m \u001b[0;32mimport\u001b[0m \u001b[0mcallbacks\u001b[0m\u001b[0;34m\u001b[0m\u001b[0;34m\u001b[0m\u001b[0m\n\u001b[1;32m     23\u001b[0m \u001b[0;32mfrom\u001b[0m \u001b[0mtensorflow_addons\u001b[0m \u001b[0;32mimport\u001b[0m \u001b[0mimage\u001b[0m\u001b[0;34m\u001b[0m\u001b[0;34m\u001b[0m\u001b[0m\n",
            "\u001b[0;32m/usr/local/lib/python3.7/dist-packages/tensorflow_addons/activations/__init__.py\u001b[0m in \u001b[0;36m<module>\u001b[0;34m()\u001b[0m\n\u001b[1;32m     15\u001b[0m \u001b[0;34m\"\"\"Additional activation functions.\"\"\"\u001b[0m\u001b[0;34m\u001b[0m\u001b[0;34m\u001b[0m\u001b[0m\n\u001b[1;32m     16\u001b[0m \u001b[0;34m\u001b[0m\u001b[0m\n\u001b[0;32m---> 17\u001b[0;31m \u001b[0;32mfrom\u001b[0m \u001b[0mtensorflow_addons\u001b[0m\u001b[0;34m.\u001b[0m\u001b[0mactivations\u001b[0m\u001b[0;34m.\u001b[0m\u001b[0mgelu\u001b[0m \u001b[0;32mimport\u001b[0m \u001b[0mgelu\u001b[0m\u001b[0;34m\u001b[0m\u001b[0;34m\u001b[0m\u001b[0m\n\u001b[0m\u001b[1;32m     18\u001b[0m \u001b[0;32mfrom\u001b[0m \u001b[0mtensorflow_addons\u001b[0m\u001b[0;34m.\u001b[0m\u001b[0mactivations\u001b[0m\u001b[0;34m.\u001b[0m\u001b[0mhardshrink\u001b[0m \u001b[0;32mimport\u001b[0m \u001b[0mhardshrink\u001b[0m\u001b[0;34m\u001b[0m\u001b[0;34m\u001b[0m\u001b[0m\n\u001b[1;32m     19\u001b[0m \u001b[0;32mfrom\u001b[0m \u001b[0mtensorflow_addons\u001b[0m\u001b[0;34m.\u001b[0m\u001b[0mactivations\u001b[0m\u001b[0;34m.\u001b[0m\u001b[0mlisht\u001b[0m \u001b[0;32mimport\u001b[0m \u001b[0mlisht\u001b[0m\u001b[0;34m\u001b[0m\u001b[0;34m\u001b[0m\u001b[0m\n",
            "\u001b[0;32m/usr/local/lib/python3.7/dist-packages/tensorflow_addons/activations/gelu.py\u001b[0m in \u001b[0;36m<module>\u001b[0;34m()\u001b[0m\n\u001b[1;32m     18\u001b[0m \u001b[0;32mimport\u001b[0m \u001b[0mwarnings\u001b[0m\u001b[0;34m\u001b[0m\u001b[0;34m\u001b[0m\u001b[0m\n\u001b[1;32m     19\u001b[0m \u001b[0;34m\u001b[0m\u001b[0m\n\u001b[0;32m---> 20\u001b[0;31m \u001b[0;32mfrom\u001b[0m \u001b[0mtensorflow_addons\u001b[0m\u001b[0;34m.\u001b[0m\u001b[0mutils\u001b[0m \u001b[0;32mimport\u001b[0m \u001b[0mtypes\u001b[0m\u001b[0;34m\u001b[0m\u001b[0;34m\u001b[0m\u001b[0m\n\u001b[0m\u001b[1;32m     21\u001b[0m \u001b[0;32mfrom\u001b[0m \u001b[0mdistutils\u001b[0m\u001b[0;34m.\u001b[0m\u001b[0mversion\u001b[0m \u001b[0;32mimport\u001b[0m \u001b[0mLooseVersion\u001b[0m\u001b[0;34m\u001b[0m\u001b[0;34m\u001b[0m\u001b[0m\n\u001b[1;32m     22\u001b[0m \u001b[0;34m\u001b[0m\u001b[0m\n",
            "\u001b[0;32m/usr/local/lib/python3.7/dist-packages/tensorflow_addons/utils/types.py\u001b[0m in \u001b[0;36m<module>\u001b[0;34m()\u001b[0m\n\u001b[1;32m     21\u001b[0m \u001b[0;34m\u001b[0m\u001b[0m\n\u001b[1;32m     22\u001b[0m \u001b[0;31m# TODO: Remove once https://github.com/tensorflow/tensorflow/issues/44613 is resolved\u001b[0m\u001b[0;34m\u001b[0m\u001b[0;34m\u001b[0m\u001b[0;34m\u001b[0m\u001b[0m\n\u001b[0;32m---> 23\u001b[0;31m \u001b[0;32mfrom\u001b[0m \u001b[0mtensorflow\u001b[0m\u001b[0;34m.\u001b[0m\u001b[0mpython\u001b[0m\u001b[0;34m.\u001b[0m\u001b[0mkeras\u001b[0m\u001b[0;34m.\u001b[0m\u001b[0mengine\u001b[0m \u001b[0;32mimport\u001b[0m \u001b[0mkeras_tensor\u001b[0m\u001b[0;34m\u001b[0m\u001b[0;34m\u001b[0m\u001b[0m\n\u001b[0m\u001b[1;32m     24\u001b[0m \u001b[0;34m\u001b[0m\u001b[0m\n\u001b[1;32m     25\u001b[0m \u001b[0;34m\u001b[0m\u001b[0m\n",
            "\u001b[0;31mImportError\u001b[0m: cannot import name 'keras_tensor' from 'tensorflow.python.keras.engine' (/tensorflow-1.15.2/python3.7/tensorflow_core/python/keras/engine/__init__.py)",
            "",
            "\u001b[0;31m---------------------------------------------------------------------------\u001b[0;32m\nNOTE: If your import is failing due to a missing package, you can\nmanually install dependencies using either !pip or !apt.\n\nTo view examples of installing some common dependencies, click the\n\"Open Examples\" button below.\n\u001b[0;31m---------------------------------------------------------------------------\u001b[0m\n"
          ]
        }
      ]
    },
    {
      "cell_type": "code",
      "metadata": {
        "colab": {
          "base_uri": "https://localhost:8080/"
        },
        "id": "ghAOKMRDUICI",
        "outputId": "6392e84a-660a-4f42-9e86-a87baf38eff3"
      },
      "source": [
        "!git clone https://github.com/onnx/onnx-tensorflow.git && cd onnx-tensorflow"
      ],
      "execution_count": null,
      "outputs": [
        {
          "output_type": "stream",
          "text": [
            "Cloning into 'onnx-tensorflow'...\n",
            "remote: Enumerating objects: 22, done.\u001b[K\n",
            "remote: Counting objects: 100% (22/22), done.\u001b[K\n",
            "remote: Compressing objects: 100% (18/18), done.\u001b[K\n",
            "remote: Total 6073 (delta 8), reused 8 (delta 4), pack-reused 6051\u001b[K\n",
            "Receiving objects: 100% (6073/6073), 1.84 MiB | 20.93 MiB/s, done.\n",
            "Resolving deltas: 100% (4733/4733), done.\n"
          ],
          "name": "stdout"
        }
      ]
    },
    {
      "cell_type": "code",
      "metadata": {
        "colab": {
          "base_uri": "https://localhost:8080/"
        },
        "id": "yL6j5QgqTxsU",
        "outputId": "2d193dcd-0940-4b0e-bce8-deb194a5bf22"
      },
      "source": [
        "!pip install yapf\n",
        "!python yapf -rip --style=\"{based_on_style: google, indent_width: 2}\" $FilePath$"
      ],
      "execution_count": null,
      "outputs": [
        {
          "output_type": "stream",
          "text": [
            "Requirement already satisfied: yapf in /usr/local/lib/python3.7/dist-packages (0.30.0)\n",
            "python3: can't open file 'yapf': [Errno 2] No such file or directory\n"
          ],
          "name": "stdout"
        }
      ]
    },
    {
      "cell_type": "code",
      "metadata": {
        "colab": {
          "base_uri": "https://localhost:8080/"
        },
        "id": "jd-PpX6FU5w9",
        "outputId": "3ee93c30-a94a-459c-b567-d4e16d091717"
      },
      "source": [
        "%cd /content/onnx-tensorflow"
      ],
      "execution_count": null,
      "outputs": [
        {
          "output_type": "stream",
          "text": [
            "/content/onnx-tensorflow\n"
          ],
          "name": "stdout"
        }
      ]
    },
    {
      "cell_type": "code",
      "metadata": {
        "colab": {
          "base_uri": "https://localhost:8080/"
        },
        "id": "C2ZQshLrVJRM",
        "outputId": "44a8dade-9b55-485a-bbd0-496425545e0b"
      },
      "source": [
        "!git clone https://github.com/tensorflow/addons.git"
      ],
      "execution_count": null,
      "outputs": [
        {
          "output_type": "stream",
          "text": [
            "Cloning into 'addons'...\n",
            "remote: Enumerating objects: 39, done.\u001b[K\n",
            "remote: Counting objects: 100% (39/39), done.\u001b[K\n",
            "remote: Compressing objects: 100% (35/35), done.\u001b[K\n",
            "remote: Total 12096 (delta 12), reused 10 (delta 4), pack-reused 12057\u001b[K\n",
            "Receiving objects: 100% (12096/12096), 5.55 MiB | 5.67 MiB/s, done.\n",
            "Resolving deltas: 100% (8749/8749), done.\n"
          ],
          "name": "stdout"
        }
      ]
    },
    {
      "cell_type": "code",
      "metadata": {
        "colab": {
          "base_uri": "https://localhost:8080/"
        },
        "id": "BZrJofdLUvVY",
        "outputId": "e91ad9f9-06e8-479b-a6a7-d857926d25d1"
      },
      "source": [
        "!python /content/onnx-tensorflow/example/onnx_to_tf.py"
      ],
      "execution_count": null,
      "outputs": [
        {
          "output_type": "stream",
          "text": [
            "/usr/local/lib/python3.7/dist-packages/tensorflow_addons/utils/ensure_tf_install.py:67: UserWarning: Tensorflow Addons supports using Python ops for all Tensorflow versions above or equal to 2.3.0 and strictly below 2.5.0 (nightly versions are not supported). \n",
            " The versions of TensorFlow you are currently using is 1.15.2 and is not supported. \n",
            "Some things might work, some things might not.\n",
            "If you were to encounter a bug, do not file an issue.\n",
            "If you want to make sure you're using a tested and supported configuration, either change the TensorFlow version or the TensorFlow Addons's version. \n",
            "You can find the compatibility matrix in TensorFlow Addon's readme:\n",
            "https://github.com/tensorflow/addons\n",
            "  UserWarning,\n",
            "Traceback (most recent call last):\n",
            "  File \"/content/onnx-tensorflow/example/onnx_to_tf.py\", line 3, in <module>\n",
            "    from onnx_tf.backend import prepare\n",
            "  File \"/usr/local/lib/python3.7/dist-packages/onnx_tf/__init__.py\", line 1, in <module>\n",
            "    from . import backend\n",
            "  File \"/usr/local/lib/python3.7/dist-packages/onnx_tf/backend.py\", line 28, in <module>\n",
            "    from onnx_tf.common.handler_helper import get_all_backend_handlers\n",
            "  File \"/usr/local/lib/python3.7/dist-packages/onnx_tf/common/handler_helper.py\", line 3, in <module>\n",
            "    from onnx_tf.handlers.backend import *  # noqa\n",
            "  File \"/usr/local/lib/python3.7/dist-packages/onnx_tf/handlers/backend/hardmax.py\", line 3, in <module>\n",
            "    import tensorflow_addons as tfa\n",
            "  File \"/usr/local/lib/python3.7/dist-packages/tensorflow_addons/__init__.py\", line 21, in <module>\n",
            "    from tensorflow_addons import activations\n",
            "  File \"/usr/local/lib/python3.7/dist-packages/tensorflow_addons/activations/__init__.py\", line 17, in <module>\n",
            "    from tensorflow_addons.activations.gelu import gelu\n",
            "  File \"/usr/local/lib/python3.7/dist-packages/tensorflow_addons/activations/gelu.py\", line 20, in <module>\n",
            "    from tensorflow_addons.utils import types\n",
            "  File \"/usr/local/lib/python3.7/dist-packages/tensorflow_addons/utils/types.py\", line 23, in <module>\n",
            "    from tensorflow.python.keras.engine import keras_tensor\n",
            "ImportError: cannot import name 'keras_tensor' from 'tensorflow.python.keras.engine' (/tensorflow-1.15.2/python3.7/tensorflow_core/python/keras/engine/__init__.py)\n"
          ],
          "name": "stdout"
        }
      ]
    },
    {
      "cell_type": "code",
      "metadata": {
        "colab": {
          "base_uri": "https://localhost:8080/"
        },
        "id": "krnFx1CwVfVS",
        "outputId": "8443475c-8af2-4ee3-cea0-5083af5264fc"
      },
      "source": [
        "!python /content/onnx-tensorflow/onnx_tf/converter.py -i /content/yolov5l.onnx -o /content/output.pb"
      ],
      "execution_count": null,
      "outputs": [
        {
          "output_type": "stream",
          "text": [
            "/usr/local/lib/python3.7/dist-packages/tensorflow_addons/utils/ensure_tf_install.py:67: UserWarning: Tensorflow Addons supports using Python ops for all Tensorflow versions above or equal to 2.3.0 and strictly below 2.5.0 (nightly versions are not supported). \n",
            " The versions of TensorFlow you are currently using is 1.15.2 and is not supported. \n",
            "Some things might work, some things might not.\n",
            "If you were to encounter a bug, do not file an issue.\n",
            "If you want to make sure you're using a tested and supported configuration, either change the TensorFlow version or the TensorFlow Addons's version. \n",
            "You can find the compatibility matrix in TensorFlow Addon's readme:\n",
            "https://github.com/tensorflow/addons\n",
            "  UserWarning,\n",
            "Traceback (most recent call last):\n",
            "  File \"/content/onnx-tensorflow/onnx_tf/converter.py\", line 12, in <module>\n",
            "    import onnx_tf.backend as backend\n",
            "  File \"/usr/local/lib/python3.7/dist-packages/onnx_tf/__init__.py\", line 1, in <module>\n",
            "    from . import backend\n",
            "  File \"/usr/local/lib/python3.7/dist-packages/onnx_tf/backend.py\", line 28, in <module>\n",
            "    from onnx_tf.common.handler_helper import get_all_backend_handlers\n",
            "  File \"/usr/local/lib/python3.7/dist-packages/onnx_tf/common/handler_helper.py\", line 3, in <module>\n",
            "    from onnx_tf.handlers.backend import *  # noqa\n",
            "  File \"/usr/local/lib/python3.7/dist-packages/onnx_tf/handlers/backend/hardmax.py\", line 3, in <module>\n",
            "    import tensorflow_addons as tfa\n",
            "  File \"/usr/local/lib/python3.7/dist-packages/tensorflow_addons/__init__.py\", line 21, in <module>\n",
            "    from tensorflow_addons import activations\n",
            "  File \"/usr/local/lib/python3.7/dist-packages/tensorflow_addons/activations/__init__.py\", line 17, in <module>\n",
            "    from tensorflow_addons.activations.gelu import gelu\n",
            "  File \"/usr/local/lib/python3.7/dist-packages/tensorflow_addons/activations/gelu.py\", line 20, in <module>\n",
            "    from tensorflow_addons.utils import types\n",
            "  File \"/usr/local/lib/python3.7/dist-packages/tensorflow_addons/utils/types.py\", line 23, in <module>\n",
            "    from tensorflow.python.keras.engine import keras_tensor\n",
            "ImportError: cannot import name 'keras_tensor' from 'tensorflow.python.keras.engine' (/tensorflow-1.15.2/python3.7/tensorflow_core/python/keras/engine/__init__.py)\n"
          ],
          "name": "stdout"
        }
      ]
    },
    {
      "cell_type": "code",
      "metadata": {
        "colab": {
          "base_uri": "https://localhost:8080/"
        },
        "id": "bpQhqE-KX-kt",
        "outputId": "ec420c7d-557a-4ffa-da10-dd49c9d97239"
      },
      "source": [
        "!python /content/onnx-tensorflow/setup.py"
      ],
      "execution_count": null,
      "outputs": [
        {
          "output_type": "stream",
          "text": [
            "usage: setup.py [global_opts] cmd1 [cmd1_opts] [cmd2 [cmd2_opts] ...]\n",
            "   or: setup.py --help [cmd1 cmd2 ...]\n",
            "   or: setup.py --help-commands\n",
            "   or: setup.py cmd --help\n",
            "\n",
            "error: no commands supplied\n"
          ],
          "name": "stdout"
        }
      ]
    }
  ]
}